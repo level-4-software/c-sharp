{
 "cells": [
  {
   "cell_type": "markdown",
   "metadata": {},
   "source": [
    "## Starter Guidance\n",
    "\n",
    "### Getting Started\n",
    "\n",
    "1. **Define Classes:** Begin by creating classes for `Book`, `Patron`, and `Library` based on the suggested attributes and methods provided in the problem statement.\n",
    "   \n",
    "2. **Implement Class Methods:** Write the methods within each class to perform actions such as borrowing, returning books, and managing overdue status.\n",
    "\n",
    "### Class Implementation\n",
    "\n",
    "#### Book Class\n",
    "- Define attributes: `Title`, `Author`, `Genre`, `ISBN`, `Borrowed`, `BorrowedBy`, `DueDate`.\n",
    "- Implement methods: `BorrowBook(Patron, Date)`, `ReturnBook()`.\n",
    "\n",
    "#### Patron Class\n",
    "- Define attributes: `Name`, `LibraryCardNumber`, `CurrentBorrowedBooks`.\n",
    "- Implement methods: `BorrowBook(Book)`, `ReturnBook(Book)`, `CheckOverdueBooks()`.\n",
    "\n",
    "#### Library Class\n",
    "- Define attributes: `Catalog`, `Patrons`.\n",
    "- Implement methods: `AddBook(Book)`, `RegisterPatron(Patron)`, `RemoveBook(Book)`, `FindBookByTitle(Title)`, `FindPatronByName(Name)`.\n",
    "\n",
    "### Implementation Tips\n",
    "\n",
    "- **Encapsulation:** Ensure that each class encapsulates its data and functionality appropriately. Hide internal data and expose only necessary methods to interact with that data.\n",
    "  \n",
    "- **Code Reuse:** Look for opportunities to reuse code by implementing shared behaviors or attributes through inheritance or interfaces.\n",
    "\n",
    "- **Singleton Pattern:** Consider using the Singleton pattern for the `Library` class to ensure only one instance exists, providing global access to the library system.\n",
    "\n",
    "### Testing and Iteration\n",
    "\n",
    "- **Unit Testing:** Test each class and its methods individually to ensure they work as expected.\n",
    "  \n",
    "- **Integration Testing:** Test the interaction between different classes to verify the overall functionality of the library management system.\n",
    "\n",
    "- **Iterative Development:** Start with basic functionality and iteratively enhance the system based on feedback and requirements.\n",
    "\n",
    "### Documentation\n",
    "\n",
    "- **Code Comments:** Include clear and concise comments throughout your code to explain complex logic or functionality.\n",
    "  \n",
    "- **API Documentation:** Document the public interface of your classes and methods to help other developers understand how to use your library system.\n",
    "\n",
    "### Collaboration and Feedback\n",
    "\n",
    "- **Code Reviews:** Collaborate with team members through code reviews to improve code quality and ensure adherence to coding standards.\n",
    "  \n",
    "- **User Feedback:** Gather feedback from users to identify areas for improvement and prioritize feature enhancements accordingly.\n",
    "\n"
   ]
  }
 ],
 "metadata": {
  "language_info": {
   "name": "python"
  }
 },
 "nbformat": 4,
 "nbformat_minor": 2
}
