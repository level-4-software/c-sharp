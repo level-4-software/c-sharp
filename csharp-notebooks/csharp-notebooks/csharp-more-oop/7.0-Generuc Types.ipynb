{
 "cells": [
  {
   "cell_type": "markdown",
   "metadata": {},
   "source": [
    "# Generic Types\n",
    "\n",
    "Generic types let you work with collections like `List` and `Dictionary` in C#, where you can store any type of data. They help you avoid losing type safety by not having to use collections that only handle objects. This means you don't need to create separate collection classes for every data type you want to manage, saving time and keeping your code clean.\n",
    "\n",
    "Generics are flexible. For example, you can create a *MyStack* class that works with any type of object. You specify the type it will hold using a placeholder (commonly called T) when you declare it. This T then represents any type you choose when you use MyStack, like a stack for strings or integers.\n",
    "\n",
    "Here's a quick look at how it works:"
   ]
  },
  {
   "cell_type": "code",
   "execution_count": 2,
   "metadata": {
    "vscode": {
     "languageId": "polyglot-notebook"
    }
   },
   "outputs": [
    {
     "name": "stdout",
     "output_type": "stream",
     "text": [
      "World\n",
      "Hello\n"
     ]
    }
   ],
   "source": [
    "// Import the necessary namespace for basic input/output operations\n",
    "using System;\n",
    "\n",
    "// Define a generic stack class named MyStack.\n",
    "// The <T> indicates that this class can work with any type, referred to as T within the class.\n",
    "class MyStack<T>\n",
    "{\n",
    "    // A private field that holds the stack items. It uses .NET's built-in Stack<T> for storage.\n",
    "    // This stack is specific to the type T, making it versatile for any data type.\n",
    "    private System.Collections.Generic.Stack<T> stack = new System.Collections.Generic.Stack<T>();\n",
    "    \n",
    "    // A public method to add an item to the stack. \n",
    "    // The item's type is T, making this method applicable for any type of data.\n",
    "    public void Push(T item) \n",
    "    {\n",
    "        stack.Push(item); // Adds the item to the top of the stack.\n",
    "    }\n",
    "    \n",
    "    // A public method to remove and return the top item from the stack.\n",
    "    // Returns an item of type T, matching the stack's data type.\n",
    "    public T Pop() \n",
    "    {\n",
    "        return stack.Pop(); // Removes and returns the top item of the stack.\n",
    "    }\n",
    "}\n",
    "\n",
    "// Demonstration of using MyStack<T> with a specific type, in this case, string.\n",
    "{\n",
    "    // Create an instance of MyStack for strings. This specifies that this stack instance\n",
    "    // will only hold string items. T is replaced by string in this context.\n",
    "    MyStack<string> stringStack = new MyStack<string>();\n",
    "\n",
    "    // Add two strings to the stack. These strings are \"Hello\" and \"World\".\n",
    "    stringStack.Push(\"Hello\");\n",
    "    stringStack.Push(\"World\");\n",
    "\n",
    "    // Remove and print the top item from the stack. Given the LIFO (Last In, First Out) nature\n",
    "    // of stacks, \"World\" is expected to be printed first as it was the last item added.\n",
    "    Console.WriteLine(stringStack.Pop()); // Expected output: \"World\"\n",
    "\n",
    "    // Remove and print the next top item from the stack, which should now be \"Hello\".\n",
    "    Console.WriteLine(stringStack.Pop()); // Expected output: \"Hello\"\n",
    "}"
   ]
  }
 ],
 "metadata": {
  "language_info": {
   "name": "python"
  }
 },
 "nbformat": 4,
 "nbformat_minor": 2
}
