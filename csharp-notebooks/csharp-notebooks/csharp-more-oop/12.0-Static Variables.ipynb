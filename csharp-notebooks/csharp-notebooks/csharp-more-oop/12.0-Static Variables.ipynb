{
 "cells": [
  {
   "cell_type": "markdown",
   "metadata": {},
   "source": [
    "# Static Variables\n",
    "\n",
    "\n",
    "A static variable belongs to a type rather than to instances of the type, meaning it's shared across all instances. To declare a variable as static within a class, you use the static keyword.\n",
    "\n",
    "For instance, consider you're developing a video game with aliens, and you want to set a universal maximum on the number of lives an alien can have. This is a perfect scenario for a static variable because this limit applies globally to all aliens, not just individually. Thus, a static variable can hold this shared value.\n",
    "\n",
    "An example of implementing this is by adding a static variable, such as Max_Lives, to the Alien class. This variable can then be referenced in the Alien constructor to ensure no alien is created with lives exceeding this maximum."
   ]
  },
  {
   "cell_type": "code",
   "execution_count": null,
   "metadata": {
    "vscode": {
     "languageId": "polyglot-notebook"
    }
   },
   "outputs": [],
   "source": [
    "using System;\n",
    "\n",
    "// Define the Alien class\n",
    "class Alien\n",
    "{\n",
    "    // Static variable to hold the maximum allowed lives for any alien\n",
    "    public static int Max_Lives = 99;\n",
    "\n",
    "    // Instance variables for the alien's position (X, Y) and lives\n",
    "    public int X;\n",
    "    public int Y;\n",
    "    public int Lives;\n",
    "\n",
    "    // Constructor for creating an Alien object\n",
    "    public Alien(int x, int y, int lives)\n",
    "    {\n",
    "        // Check if the provided position is valid (non-negative)\n",
    "        if (x < 0 || y < 0)\n",
    "            throw new Exception(\"Invalid position\"); // Throw an exception if the position is invalid\n",
    "\n",
    "        // Check if the provided number of lives exceeds the maximum allowed\n",
    "        if (lives > Max_Lives)\n",
    "            throw new Exception(\"Invalid lives\"); // Throw an exception if too many lives are specified\n",
    "\n",
    "        // Assign the position and lives to the alien\n",
    "        X = x;\n",
    "        Y = y;\n",
    "        Lives = lives;\n",
    "    }\n",
    "}\n"
   ]
  },
  {
   "cell_type": "markdown",
   "metadata": {},
   "source": [
    "Check the following outputs and error, and then correct the code so it executes without erroring out."
   ]
  },
  {
   "cell_type": "code",
   "execution_count": null,
   "metadata": {
    "dotnet_interactive": {
     "language": "csharp"
    },
    "polyglot_notebook": {
     "kernelName": "csharp"
    },
    "vscode": {
     "languageId": "polyglot-notebook"
    }
   },
   "outputs": [],
   "source": [
    "Alien xeno = new Alien(100, 100, 250);\n",
    "Console.WriteLine(xeno.Lives);"
   ]
  },
  {
   "cell_type": "markdown",
   "metadata": {},
   "source": [
    "Making a variable static does not stop it from being changed when the program runs (to achieve this use the const keyword or make the variable readonly). Rather, the word static in this context means that the variable is “always present.” A program can use a static variable from a type without needing to have created any instances of that type. Types can also contain static methods. These can be called without the need for an instance of the object containing the method. Libraries of useful functions are often provided as static members of a library class.\n",
    "\n",
    "Static variables are very useful for validation values for a type, such as the maximum number of lives, and also for default values. They can be made private to a class so that their values can be managed by the class."
   ]
  }
 ],
 "metadata": {
  "language_info": {
   "name": "python"
  }
 },
 "nbformat": 4,
 "nbformat_minor": 2
}
