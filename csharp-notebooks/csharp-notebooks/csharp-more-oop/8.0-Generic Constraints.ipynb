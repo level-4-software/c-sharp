{
 "cells": [
  {
   "cell_type": "markdown",
   "metadata": {},
   "source": [
    "# Generic Constraints\n",
    "\n",
    "The MyStack class can hold any type of data. If you want to restrict it to only store reference types you can add a constraint on the possible types that T can represent. The MyStack declaration restricts the stack to holding reference types, so it isn’t now possible to store integers (which are value types) in the stack.\n",
    "\n",
    "```csharp\n",
    "class MyStack<T> where T:class\n",
    "```\n",
    "\n",
    "There are other constraints that you can use, as shown in the following table.\n",
    "\n",
    "|Constraint|Behaviour|\n",
    "|---|---|\n",
    "|where T: class|The type T must be a reference type|\n",
    "|where T: struct|The type T must be a value type|\n",
    "|where T: new()|The type T must have a public, parameterless, constructor. Specify this constraint last if you are specifying a list of constraints|\n",
    "|where T: <base class>|The type T must be of a type base class, or derive from a base class|\n",
    "|where T: <interface name>|The type T must be, or implement the specified interface. You can specify multiple interfaces|\n",
    "|where T: unmanaged|The type T must not be a reference type, or contain any members which are reference types|\n",
    "\n",
    "Investigating how the generic collection classes work is a great way to build your understanding of how the generic features in C# are used."
   ]
  }
 ],
 "metadata": {
  "language_info": {
   "name": "python"
  }
 },
 "nbformat": 4,
 "nbformat_minor": 2
}
