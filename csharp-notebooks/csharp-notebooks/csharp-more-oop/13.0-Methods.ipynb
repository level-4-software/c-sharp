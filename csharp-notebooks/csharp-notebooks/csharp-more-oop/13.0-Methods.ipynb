{
 "cells": [
  {
   "cell_type": "markdown",
   "metadata": {},
   "source": [
    "# Methods\n",
    "\n",
    "You have seen methods used in several of the types that you have worked with in this section. A method is a member of a class. It has a signature and a body. The signature defines the type and number of parameters that the method will accept. The body is a block of code that is performed when the method is called. If the method has a type other than void, all code paths through the body of the code must end with a return statement that returns a value of the type of the method.\n",
    "\n",
    "Here you can see a method called `RemoveLives`, which is called to remove lives from an Alien. The method is provided with a parameter that gives the number of lives to remove. If the number of lives that are left is less than zero, the lives value is set to zero and the Alien is moved off the display screen so that it is not visible any more. The RemoveLives method is of type Boolean and returns true if the alien is still alive and false if it is not."
   ]
  },
  {
   "cell_type": "code",
   "execution_count": 5,
   "metadata": {
    "dotnet_interactive": {
     "language": "csharp"
    },
    "polyglot_notebook": {
     "kernelName": "csharp"
    },
    "vscode": {
     "languageId": "polyglot-notebook"
    }
   },
   "outputs": [],
   "source": [
    "using System;\n",
    "\n",
    "// Define the Alien class\n",
    "class Alien\n",
    "{\n",
    "    // Public properties to store the Alien's position and life count\n",
    "    public int X;\n",
    "    public int Y;\n",
    "    public int Lives;\n",
    "\n",
    "    // Constructor to initialize an Alien object\n",
    "    public Alien(int x, int y, int lives)\n",
    "    {\n",
    "        X = x;\n",
    "        Y = y;\n",
    "        Lives = lives;\n",
    "    }\n",
    "\n",
    "    // Method to remove lives from the Alien and update its status\n",
    "    public bool RemoveLives(int livesToRemove)\n",
    "    {\n",
    "        // Subtract the specified number of lives\n",
    "        Lives -= livesToRemove;\n",
    "\n",
    "        // Check if the Alien has run out of lives\n",
    "        if (Lives <= 0)\n",
    "        {\n",
    "            // If no lives are left, move the Alien off-screen and return false\n",
    "            Lives = 0;\n",
    "            X = -1000;\n",
    "            Y = -1000;\n",
    "            return false; // Alien is \"dead\"\n",
    "        }\n",
    "        else\n",
    "        {\n",
    "            return true; // Alien is still \"alive\"\n",
    "        }\n",
    "    }\n",
    "}\n"
   ]
  },
  {
   "cell_type": "code",
   "execution_count": 6,
   "metadata": {
    "dotnet_interactive": {
     "language": "csharp"
    },
    "polyglot_notebook": {
     "kernelName": "csharp"
    },
    "vscode": {
     "languageId": "polyglot-notebook"
    }
   },
   "outputs": [
    {
     "name": "stdout",
     "output_type": "stream",
     "text": [
      "Initial State -> Position: (100, 100), Lives: 5\n",
      "After Removing Lives -> Alive: True, Position: (100, 100), Lives: 2\n",
      "Final State -> Alive: False, Position: (-1000, -1000), Lives: 0\n"
     ]
    }
   ],
   "source": [
    "// Example usage of the Alien class\n",
    "{\n",
    "    // Create an Alien object\n",
    "    Alien myAlien = new Alien(100, 100, 5);\n",
    "    Console.WriteLine($\"Initial State -> Position: ({myAlien.X}, {myAlien.Y}), Lives: {myAlien.Lives}\");\n",
    "\n",
    "    // Attempt to remove some lives and print the result\n",
    "    bool isAlive = myAlien.RemoveLives(3);\n",
    "    Console.WriteLine($\"After Removing Lives -> Alive: {isAlive}, Position: ({myAlien.X}, {myAlien.Y}), Lives: {myAlien.Lives}\");\n",
    "\n",
    "    // Remove more lives to \"kill\" the Alien and print the final state\n",
    "    isAlive = myAlien.RemoveLives(3); // This should \"kill\" the Alien\n",
    "    Console.WriteLine($\"Final State -> Alive: {isAlive}, Position: ({myAlien.X}, {myAlien.Y}), Lives: {myAlien.Lives}\");\n",
    "}"
   ]
  },
  {
   "cell_type": "markdown",
   "metadata": {},
   "source": [
    "The name of a method is best expressed in a “verb-noun” manner, with an action followed by the thing that the action is acting on. Names such as “DisplayMenu,” “SaveCustomer,” and “DeleteFile” are very descriptive of what the method does. When talking about the method signature and the code body of a method we will talk in terms of the parameters used in the method. In the case of the call of a method we will talk in terms of the arguments supplied to the call. In other words, in the example shown in Listing 2-12 the parameter to the method is called livesToRemove and the argument to the method call is the value 2."
   ]
  }
 ],
 "metadata": {
  "language_info": {
   "name": "python"
  }
 },
 "nbformat": 4,
 "nbformat_minor": 2
}
