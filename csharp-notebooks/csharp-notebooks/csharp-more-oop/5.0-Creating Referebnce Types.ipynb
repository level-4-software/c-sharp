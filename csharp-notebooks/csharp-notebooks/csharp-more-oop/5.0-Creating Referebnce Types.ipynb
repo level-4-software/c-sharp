{
 "cells": [
  {
   "cell_type": "markdown",
   "metadata": {},
   "source": [
    "# Understanding Reference Types with Classes\n",
    "\n",
    "In C#, reference types are primarily created using classes. While classes are declared somewhat like structures, they are used differently. For example, you can define an Alien as a class instead of a struct with just a small change in its declaration.\n",
    "\n",
    "Here's how you can create an Alien class and use it:\n",
    "\n",
    "- Declare the Alien Class: First, you declare the Alien as a class. This is very similar to declaring a struct but changes how the Alien is handled in your code.\n",
    "- Create an Alien Instance: Next, you create an Alien instance named x by using the new keyword, which makes x refer to a new Alien object. This process of creating an object is known as instantiation.\n",
    "- Create an Array of Aliens: You can also create an array named swarm that holds 100 references to Alien objects. Initially, these references don't point to any actual Alien objects.\n",
    "- Instantiate Aliens for the Array: Finally, you go through the swarm array and assign a new Alien object to each reference in the array using the new keyword again.\n",
    "\n",
    "This approach demonstrates how classes, as reference types, allow multiple references to point to the same object, facilitating dynamic and complex interactions in your programs."
   ]
  },
  {
   "cell_type": "code",
   "execution_count": 2,
   "metadata": {
    "vscode": {
     "languageId": "polyglot-notebook"
    }
   },
   "outputs": [
    {
     "name": "stdout",
     "output_type": "stream",
     "text": [
      "x X: 100 Y: 100 Lives: 3\n",
      "swarm [0] X: 0 Y: 0 Lives: 3\n"
     ]
    }
   ],
   "source": [
    "using System;\n",
    "\n",
    "// Define the Alien class with properties for position and lives\n",
    "class Alien\n",
    "{\n",
    "    public int X;\n",
    "    public int Y;\n",
    "    public int Lives;\n",
    "\n",
    "    // Constructor to initialize a new Alien object\n",
    "    public Alien(int x, int y)\n",
    "    {\n",
    "        X = x;\n",
    "        Y = y;\n",
    "        Lives = 3; // Default number of lives\n",
    "    }\n",
    "\n",
    "    // Override ToString to provide a string representation of an Alien\n",
    "    public override string ToString()\n",
    "    {\n",
    "        return $\"X: {X} Y: {Y} Lives: {Lives}\";\n",
    "    }\n",
    "}\n",
    "\n",
    "// Create an instance of Alien\n",
    "Alien x = new Alien(100, 100);\n",
    "Console.WriteLine($\"x {x}\");\n",
    "\n",
    "// Initialize an array to hold Alien objects\n",
    "Alien[] swarm = new Alien[100];\n",
    "\n",
    "// Fill the array with Alien instances\n",
    "for (int i = 0; i < swarm.Length; i++)\n",
    "{\n",
    "    swarm[i] = new Alien(0, 0);\n",
    "}\n",
    "\n",
    "// Display the first Alien in the array\n",
    "Console.WriteLine($\"swarm [0] {swarm[0]}\");\n"
   ]
  },
  {
   "cell_type": "markdown",
   "metadata": {},
   "source": [
    "This code demonstrates creating an Alien class with properties and a constructor, instantiating an Alien object, initializing an array of Alien objects, and filling this array with Alien instances. Each Alien starts with the default position (0,0) and 3 lives. The first Alien object created is placed at position (100,100) to show how individual instances can be initialized with specific values. This code can be directly run in a .NET Interactive notebook cell to observe the output."
   ]
  }
 ],
 "metadata": {
  "language_info": {
   "name": "python"
  }
 },
 "nbformat": 4,
 "nbformat_minor": 2
}
