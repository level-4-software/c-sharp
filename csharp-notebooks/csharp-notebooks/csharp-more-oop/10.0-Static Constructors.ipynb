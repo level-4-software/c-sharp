{
 "cells": [
  {
   "cell_type": "markdown",
   "metadata": {},
   "source": [
    "# Static Constructors\n",
    "\n",
    "\n",
    "A class may include a static constructor, which is executed a single time prior to the instantiation of the class's first object. For example, the Alien class features a static constructor that outputs a message upon its invocation. As the program executes, this message is displayed just once, preceding the creation of the initial alien. \n",
    "\n",
    "The static constructor does not trigger again for subsequent alien creations."
   ]
  },
  {
   "cell_type": "code",
   "execution_count": null,
   "metadata": {
    "vscode": {
     "languageId": "polyglot-notebook"
    }
   },
   "outputs": [
    {
     "name": "stdout",
     "output_type": "stream",
     "text": [
      "Static Alien constructor running\r\n"
     ]
    }
   ],
   "source": [
    "using System;\n",
    "\n",
    "class Alien\n",
    "{\n",
    "    // Static constructor for the Alien class.\n",
    "    static Alien()\n",
    "    {\n",
    "        // This message will be printed the first time the Alien class is accessed.\n",
    "        Console.WriteLine(\"Static Alien constructor running\");\n",
    "    }\n",
    "}\n",
    "\n",
    "// Demonstration of triggering the static constructor.\n",
    "// Accessing the Alien class for the first time will trigger the static constructor.\n",
    "// This can be done by creating an instance of the class or accessing a static member of the class.\n",
    "// Here, we'll simply create an instance to trigger it.\n",
    "\n",
    "var firstAlien = new Alien(); // This line triggers the static constructor.\n",
    "\n",
    "// Note: If you create another instance of the Alien class after this point,\n",
    "// the static constructor will not run again, as it only executes once per application domain.\n",
    "\n",
    "var secondAlien = new Alien();\n"
   ]
  },
  {
   "cell_type": "markdown",
   "metadata": {},
   "source": [
    "A static constructor is a good place to load resources and initialize values that will be used by instances of the class. This can include the values of static members of the class, as described in the next section."
   ]
  }
 ],
 "metadata": {
  "language_info": {
   "name": "python"
  }
 },
 "nbformat": 4,
 "nbformat_minor": 2
}
