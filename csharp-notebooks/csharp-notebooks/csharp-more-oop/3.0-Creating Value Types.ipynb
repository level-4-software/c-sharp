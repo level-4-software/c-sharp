{
 "cells": [
  {
   "cell_type": "markdown",
   "metadata": {},
   "source": [
    "# Creating value types\n",
    "\n",
    "There are two kinds of value types that can be created in a C# program. There are structures and enumerated types. Let’s take a look at structures first.\n",
    "\n",
    "### Simplified Explanation of Structures in C#\n",
    "\n",
    "In C#, structures (structs) offer a way to store a small group of related variables, like a simple version of classes. You've already seen them in action in Program 2.1. Both structs and classes can contain methods, properties, data values, and constructors, but there are key differences:\n",
    "\n",
    "#### Structure Constructors\n",
    "\n",
    "- Initialization Requirement: A struct's constructor must initialize all data members. Unlike classes, structs don't allow uninitialized fields.\n",
    "- No Parameterless Constructors: You can't define a parameterless constructor in a struct. However, when you instantiate a struct without specifying any parameters, C# automatically generates a parameterless constructor that sets all fields to their default values (for example, numbers to 0 and strings to null).\n",
    "Other Key Differences\n",
    "- No Inheritance: Structs cannot inherit from another struct or class.\n",
    "- Memory Allocation: Structs are usually stored on the stack, making them quicker to allocate and deallocate. However, if a struct is captured by a closure or stored in an array, it's stored on the heap. An array of structs is stored in a contiguous block of memory, which can improve performance due to locality of reference."
   ]
  },
  {
   "cell_type": "code",
   "execution_count": 3,
   "metadata": {
    "vscode": {
     "languageId": "polyglot-notebook"
    }
   },
   "outputs": [
    {
     "name": "stdout",
     "output_type": "stream",
     "text": [
      "a X: 50 Y: 50 Lives: 3\n",
      "x X: 100 Y: 100 Lives: 3\n",
      "swarm [0] X: 0 Y: 0 Lives: 0\n"
     ]
    }
   ],
   "source": [
    "// Import necessary namespaces\n",
    "using System;\n",
    "\n",
    "// Define a structure named Alien to represent alien entities in a game\n",
    "struct Alien\n",
    "{\n",
    "    // Public fields to hold the alien's position and number of lives\n",
    "    public int X;\n",
    "    public int Y;\n",
    "    public int Lives;\n",
    "\n",
    "    // Constructor for the Alien struct.\n",
    "    // It allows creating an Alien with specific X and Y coordinates.\n",
    "    // The number of lives is set to a default of 3 for all new aliens.\n",
    "    public Alien(int x, int y)\n",
    "    {\n",
    "        X = x; // Set the X position\n",
    "        Y = y; // Set the Y position\n",
    "        Lives = 3; // Set the default lives to 3\n",
    "    }\n",
    "\n",
    "    // Override the ToString method to provide a meaningful string representation of an Alien instance.\n",
    "    // This method is useful for displaying the state of an Alien object.\n",
    "    public override string ToString()\n",
    "    {\n",
    "        // Formats the string to include the X and Y positions and the number of lives.\n",
    "        return $\"X: {X} Y: {Y} Lives: {Lives}\";\n",
    "    }\n",
    "}\n",
    "\n",
    "// Main execution block\n",
    "{\n",
    "    // Declare an Alien instance without using the constructor, setting fields manually\n",
    "    Alien a;\n",
    "    a.X = 50; // Manually set X position\n",
    "    a.Y = 50; // Manually set Y position\n",
    "    a.Lives = 3; // Manually set the number of lives\n",
    "    // Print out the alien's details using the overridden ToString method\n",
    "    Console.WriteLine($\"a {a}\");\n",
    "\n",
    "    // Declare and instantiate another Alien using the constructor to set X and Y positions\n",
    "    // The number of lives will be the default value (3) set in the constructor\n",
    "    Alien x = new Alien(100, 100);\n",
    "    // Print out this alien's details too\n",
    "    Console.WriteLine($\"x {x}\");\n",
    "\n",
    "    // Initialize an array to hold 100 Alien instances\n",
    "    Alien[] swarm = new Alien[100];\n",
    "  \n",
    "    for (int i = 0; i < swarm.Length; i++)\n",
    "    {   \n",
    "    // Create a new Alien instance with default X and Y positions\n",
    "    // The number of lives will be the default value (3) set in the constructor\n",
    "    swarm[i] = new Alien(0, 0);\n",
    "    }\n",
    "\n",
    "\n",
    "    Console.WriteLine($\"swarm [0] {swarm[0]}\");\n",
    "}\n"
   ]
  }
 ],
 "metadata": {
  "language_info": {
   "name": "python"
  }
 },
 "nbformat": 4,
 "nbformat_minor": 2
}
