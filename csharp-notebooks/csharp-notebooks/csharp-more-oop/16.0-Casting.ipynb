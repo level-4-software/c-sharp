{
 "cells": [
  {
   "cell_type": "markdown",
   "metadata": {},
   "source": [
    "# Casting\n",
    "\n",
    "The C# language has been designed to reduce the ways in which a programmer can make mistakes, which will cause a program to produce invalid results. One aspect of this design is the way that a C# program will not allow a programmer to perform a conversion between types that result in the loss of data.\n",
    "\n",
    "The two statements below show a situation in which data is lost when an assignment is made. It is an example of narrowing, when a value is transferred into a type which offers a narrower range of values. The integer type does not handle the fractional part of a value, and so the .9 part of the value x is discarded when the assignment takes place. These statements will not compile successfully."
   ]
  },
  {
   "cell_type": "code",
   "execution_count": null,
   "metadata": {
    "vscode": {
     "languageId": "polyglot-notebook"
    }
   },
   "outputs": [],
   "source": [
    "float x = 9.9f;\n",
    "int i = x;\n",
    "\n",
    "Console.WriteLine(x);\n",
    "Console.WriteLine(i);"
   ]
  },
  {
   "cell_type": "markdown",
   "metadata": {},
   "source": [
    "A conversion that performs widening, in which the destination type has a wider range of values than the source, does not require a cast, because there is no prospect of data loss."
   ]
  },
  {
   "cell_type": "code",
   "execution_count": null,
   "metadata": {
    "dotnet_interactive": {
     "language": "csharp"
    },
    "polyglot_notebook": {
     "kernelName": "csharp"
    },
    "vscode": {
     "languageId": "polyglot-notebook"
    }
   },
   "outputs": [],
   "source": [
    "int a = 22146;\n",
    "float b = a;\n",
    "\n",
    "Console.WriteLine(a);\n",
    "Console.WriteLine(b);"
   ]
  },
  {
   "cell_type": "markdown",
   "metadata": {},
   "source": [
    "Note that casting cannot be used to convert between different types, for example with an integer and string. In other words, the following statement will fail to compile:"
   ]
  },
  {
   "cell_type": "code",
   "execution_count": null,
   "metadata": {
    "dotnet_interactive": {
     "language": "csharp"
    },
    "polyglot_notebook": {
     "kernelName": "csharp"
    },
    "vscode": {
     "languageId": "polyglot-notebook"
    }
   },
   "outputs": [],
   "source": [
    "int i = (int) \"99\";"
   ]
  }
 ],
 "metadata": {
  "language_info": {
   "name": "python"
  }
 },
 "nbformat": 4,
 "nbformat_minor": 2
}
