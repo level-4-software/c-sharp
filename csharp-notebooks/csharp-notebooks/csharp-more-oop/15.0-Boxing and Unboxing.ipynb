{
 "cells": [
  {
   "cell_type": "markdown",
   "metadata": {},
   "source": [
    "# Boxing and Unboxing\n",
    "\n",
    "In C#, there are two kinds of types: value types and reference types. Value types, like int, float, and double, store the actual data, while reference types store a reference to the data's location. When you define a structure, you're creating a value type, but when you define a class, you're creating a reference type.\n",
    "\n",
    "Value types are efficient because operations like addition can be done directly with the data. However, sometimes you might want to treat a value type as a reference type. C# allows this through \"boxing,\" where a value type is wrapped inside a reference type. This can be helpful for storing value types in collections designed for reference types, among other things.\n",
    "\n",
    "\"Unboxing\" is the reverse process, where you extract the value type from the reference type. It's like unpacking something from a box.\n",
    "\n",
    "Here's a simple example:\n",
    "\n",
    "- Boxing: Turning the int value 99 into a reference type (object o).\n",
    "- Unboxing: Converting o back into an int value.\n",
    "\n",
    "This conversion process allows value types to be treated as reference types when needed, giving you flexibility in how you manage data in your C# programs.\n",
    "\n",
    "The following code demonstrates how to perform boxing and unboxing in C#. It first boxes an integer value (99) into an object type, then unboxes it back to an integer, and finally prints the result. You can copy and paste this code into a .NET Interactive notebook cell to see boxing and unboxing in action.\n"
   ]
  },
  {
   "cell_type": "code",
   "execution_count": 2,
   "metadata": {
    "vscode": {
     "languageId": "polyglot-notebook"
    }
   },
   "outputs": [
    {
     "name": "stdout",
     "output_type": "stream",
     "text": [
      "99\r\n"
     ]
    }
   ],
   "source": [
    "using System;\n",
    "\n",
    "// Boxing the value 99 into an object\n",
    "object o = 99;\n",
    "\n",
    "// Unboxing the object back into an int\n",
    "int oVal = (int)o;\n",
    "\n",
    "// Output the unboxed value\n",
    "Console.WriteLine(oVal);\n"
   ]
  }
 ],
 "metadata": {
  "language_info": {
   "name": "python"
  }
 },
 "nbformat": 4,
 "nbformat_minor": 2
}
