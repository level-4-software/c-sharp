{
 "cells": [
  {
   "cell_type": "markdown",
   "metadata": {},
   "source": [
    "# Creating Types\n",
    "\n",
    "C# provides a range of “built-in” types. You have already encountered such types as int and float and have seen how to use these types to process data when your program runs. From a software point of view, there is no technical reason why every program in the world can’t be written using the “built-in” types provided by C#. The ability to create our own data types in the programs that we write makes software development much easier and less prone to error.\n",
    "\n"
   ]
  },
  {
   "cell_type": "markdown",
   "metadata": {},
   "source": [
    "### Value and Reference Types\n",
    "\n",
    "When you're adding a new type of data to your program, one of the first decisions you'll make is whether to use a `value type` or a `reference type` for storing that data. Grasping the distinction between these two types is essential because it influences how data behaves, especially during assignment operations.\n",
    "\n",
    "Let's simplify this with an analogy. \n",
    "\n",
    "Imagine you have two notebooks, *Notebook X* and *Notebook Y*. \n",
    "\n",
    "You decide to copy the content from *Notebook Y* into *Notebook X*. Later, you add a new note in *Notebook X*.\n",
    "\n",
    "- If these notebooks were `value types`, copying content from Y to X means you now have two separate notebooks. Any new note you add in Notebook X doesn't appear in Notebook Y because they're independent of each other.\n",
    "\n",
    "- However, if the notebooks were `reference types`, when you copy content from Y to X, you're essentially saying, \"Notebook X and Y are now the same notebook.\" So, adding a new note to Notebook X is the same as adding it to Notebook Y because they refer to the same single notebook.\n",
    "\n",
    "####  In Code Terms\n",
    "\n",
    "- `Value Type Assignment`: Assigning one value type variable to another (x = y;) copies the data. Therefore, modifying x afterwards (like x.Data = 100;) doesn't affect y. They're like two separate notebooks in our analogy.\n",
    "- `Reference Type Assignment`: For reference types, x = y; doesn't copy the data. Instead, x and y now refer to the same object. So, if you change something in x (like x.Data = 100;), you're also changing it in y because they're both referencing the same underlying object—just like the notebook analogy where both names refer to the same single notebook.\n",
    "\n",
    "This distinction is critical for understanding how your data will behave when you pass it around and modify it in your program.\n",
    "\n",
    "This program shows these behaviors in action. The two assignment statements are performed on structure and class variables. One of these types is managed by reference, and the other is managed by value."
   ]
  },
  {
   "cell_type": "code",
   "execution_count": null,
   "metadata": {
    "dotnet_interactive": {
     "language": "csharp"
    },
    "polyglot_notebook": {
     "kernelName": "csharp"
    },
    "vscode": {
     "languageId": "polyglot-notebook"
    }
   },
   "outputs": [],
   "source": [
    "using System;\n",
    "\n",
    "// StructStore is a value type because it's a struct.\n",
    "// Value types hold their data directly in memory where the variable is allocated.\n",
    "struct StructStore\n",
    "{\n",
    "    public int Data { get; set; }\n",
    "}\n",
    "\n",
    "// ClassStore is a reference type because it's a class.\n",
    "// Reference types store a reference (or pointer) to the actual data in memory.\n",
    "class ClassStore\n",
    "{\n",
    "    public int Data { get; set; }\n",
    "}\n",
    "\n",
    "// Demonstrating with value types (StructStore)\n",
    "StructStore xs, ys;\n",
    "ys = new StructStore(); // Create a new StructStore instance and assign to ys.\n",
    "ys.Data = 99; // Set ys.Data to 99.\n",
    "\n",
    "xs = ys; // Copy ys to xs. This is a value copy, so xs is now a separate copy of ys.\n",
    "xs.Data = 100; // Change xs.Data to 100. This does not affect ys because xs is a separate copy.\n",
    "\n",
    "// Print out the values to see that they are indeed different.\n",
    "Console.WriteLine($\"xStruct: {xs.Data}\"); // Outputs 100, showing xs.Data was changed to 100.\n",
    "Console.WriteLine($\"yStruct: {ys.Data}\"); // Outputs 99, showing ys.Data remains unchanged.\n",
    "\n",
    "// Demonstrating with reference types (ClassStore)\n",
    "ClassStore xc, yc;\n",
    "yc = new ClassStore(); // Create a new ClassStore instance and assign to yc.\n",
    "yc.Data = 99; // Set yc.Data to 99.\n",
    "\n",
    "xc = yc; // Assign yc to xc. This does not copy the object itself but the reference to it.\n",
    "xc.Data = 100; // Change xc.Data to 100. This also changes yc.Data because xc and yc refer to the same object.\n",
    "\n",
    "// Print out the values to see that they have both changed.\n",
    "Console.WriteLine($\"xClass: {xc.Data}\"); // Outputs 100, showing xc.Data was changed to 100.\n",
    "Console.WriteLine($\"yClass: {yc.Data}\"); // Also outputs 100, showing yc.Data also changed because xc and yc refer to the same object.\n",
    "\n"
   ]
  },
  {
   "cell_type": "markdown",
   "metadata": {},
   "source": [
    "Value and reference types in .NET\n",
    "You can learn more about the use of these types by considering some .NET types. The .NET libraries contain a range of types for programmers to use. Some are value types, and others are reference types.\n",
    "\n",
    "A good example of a value type is the DateTime structure provided by the .NET library. This holds a value that represents a particular date and time. You can represent date values in the form of a collection of individual values, with one for the year, another for the month and so on, but assigning one date to another will be time-consuming because the program has to transfer each value in turn. Having a DateTime type that represents a date means that you can move a date value from one variable to another by performing a single assignment. When an assignment to a DateTime variable is performed, all of the values that represent the date are copied into the destination variable.\n",
    "\n",
    "A good example of a reference type is the Bitmap class from the System.Drawing library in .NET. The Bitmap class is used to create objects that hold all of the pixels that make up an image on the screen. Images can contain millions of pixels. If a Bitmap is held as a value type, when one Bitmap image is assigned to another, all of the pixels in the source Bitmap must be copied from the source image into the destination. Because bitmaps are managed by reference, an assignment simply makes the destination reference refer to the same object as the source reference."
   ]
  }
 ],
 "metadata": {
  "language_info": {
   "name": "python"
  }
 },
 "nbformat": 4,
 "nbformat_minor": 2
}
