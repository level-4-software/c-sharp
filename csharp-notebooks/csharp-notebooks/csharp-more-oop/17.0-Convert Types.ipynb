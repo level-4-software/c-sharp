{
 "cells": [
  {
   "cell_type": "markdown",
   "metadata": {},
   "source": [
    "# Type Conversions in .NET\n",
    "\n",
    "NET provides various methods for casting between types. Additionally, you can define custom conversion operators in your classes to allow implicit (automatic) and explicit (requires a cast) conversions between your custom types.\n",
    "\n",
    "For instance, consider a Miles class that holds a distance as a double-precision value. You can include an implicit conversion operator to the Kilometers class, allowing seamless conversion of a Miles instance to a Kilometers instance, reflecting the same distance. This implicit conversion happens automatically when you assign a Miles value to a Kilometers variable.\n",
    "\n",
    "Moreover, if you want to convert the distance from Miles to an integer value, you'd use an explicit conversion since this operation might lead to data loss (the fractional part of the distance is ignored). Explicit conversions require the programmer to use a cast, signaling that they are aware of the potential data loss.\n",
    "\n",
    "This mechanism allows for flexible and clear conversions within your programs, whether automatically for compatible types or with a cast for conversions that could lose information."
   ]
  },
  {
   "cell_type": "code",
   "execution_count": 1,
   "metadata": {
    "vscode": {
     "languageId": "polyglot-notebook"
    }
   },
   "outputs": [
    {
     "name": "stdout",
     "output_type": "stream",
     "text": [
      "Implicit conversion from miles to kilometers\n",
      "Kilometers: 160\n",
      "Explicit conversion from miles to int\n",
      "Int miles: 100\n"
     ]
    }
   ],
   "source": [
    "using System;\n",
    "\n",
    "// Define the Miles class with a distance property and conversion operators.\n",
    "class Miles\n",
    "{\n",
    "    public double Distance { get; }\n",
    "\n",
    "    // Implicit conversion operator from Miles to Kilometers.\n",
    "    public static implicit operator Kilometers(Miles t)\n",
    "    {\n",
    "        Console.WriteLine(\"Implicit conversion from miles to kilometers\");\n",
    "        return new Kilometers(t.Distance * 1.6); // Converts miles to kilometers.\n",
    "    }\n",
    "\n",
    "    // Explicit conversion operator from Miles to int.\n",
    "    public static explicit operator int(Miles t)\n",
    "    {\n",
    "        Console.WriteLine(\"Explicit conversion from miles to int\");\n",
    "        // Rounds the distance before converting to int.\n",
    "        return (int)(t.Distance + 0.5);\n",
    "    }\n",
    "\n",
    "    public Miles(double miles)\n",
    "    {\n",
    "        Distance = miles;\n",
    "    }\n",
    "}\n",
    "\n",
    "// Define the Kilometers class with a distance property.\n",
    "class Kilometers\n",
    "{\n",
    "    public double Distance { get; }\n",
    "\n",
    "    public Kilometers(double kilometers)\n",
    "    {\n",
    "        Distance = kilometers;\n",
    "    }\n",
    "}\n",
    "\n",
    "// Demonstrate using the Miles and Kilometers classes with conversions.\n",
    "{\n",
    "    Miles m = new Miles(100); // Create a Miles object.\n",
    "\n",
    "    // Implicitly convert miles to kilometers.\n",
    "    Kilometers k = m;\n",
    "    Console.WriteLine($\"Kilometers: {k.Distance}\");\n",
    "\n",
    "    // Explicitly convert miles to integer.\n",
    "    int intMiles = (int)m;\n",
    "    Console.WriteLine($\"Int miles: {intMiles}\");\n",
    "}\n"
   ]
  },
  {
   "cell_type": "markdown",
   "metadata": {},
   "source": [
    "### Convert Types with System.Convert\n",
    "\n",
    "The System.Convert class provides a set of static methods that can be used to perform type conversion between .NET types. As an example, the code next converts a string into an integer:"
   ]
  },
  {
   "cell_type": "code",
   "execution_count": 2,
   "metadata": {
    "dotnet_interactive": {
     "language": "csharp"
    },
    "polyglot_notebook": {
     "kernelName": "csharp"
    },
    "vscode": {
     "languageId": "polyglot-notebook"
    }
   },
   "outputs": [
    {
     "name": "stdout",
     "output_type": "stream",
     "text": [
      "My age is: 21\r\n"
     ]
    }
   ],
   "source": [
    "using System;\n",
    "\n",
    "// Convert a string representation of a number into an integer.\n",
    "int myAge = Convert.ToInt32(\"21\");\n",
    "Console.WriteLine($\"My age is: {myAge}\");\n"
   ]
  }
 ],
 "metadata": {
  "language_info": {
   "name": "python"
  }
 },
 "nbformat": 4,
 "nbformat_minor": 2
}
