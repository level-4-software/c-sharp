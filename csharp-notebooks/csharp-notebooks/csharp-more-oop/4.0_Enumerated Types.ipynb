{
 "cells": [
  {
   "cell_type": "markdown",
   "metadata": {},
   "source": [
    "# Enumerated Types\n",
    "\n",
    "Enumerated types (enums) are handy when you need a variable to only represent a specific set of values. For instance, if you're making a game and you have aliens that can be in one of three states: sleeping, attacking, or destroyed, enums help you enforce these options.\n",
    "\n",
    "Instead of using an integer where 0 represents sleeping, 1 for attacking, and 2 for destroyed (which risks accidentally setting the alien to an invalid state like 4), you use an enum. Enums make your code cleaner and safer by ensuring that the variable can only hold one of the predefined values.\n",
    "\n",
    "Here's how you might define and use such an enum for an alien's state:"
   ]
  },
  {
   "cell_type": "code",
   "execution_count": 2,
   "metadata": {
    "vscode": {
     "languageId": "polyglot-notebook"
    }
   },
   "outputs": [
    {
     "name": "stdout",
     "output_type": "stream",
     "text": [
      "Attacking\r\n"
     ]
    }
   ],
   "source": [
    "enum AlienState\n",
    "{\n",
    "    Sleeping,\n",
    "    Attacking,\n",
    "    Destroyed\n",
    "}\n",
    "\n",
    "// Creating a variable of the AlienState enum type and setting it to Attacking\n",
    "AlienState alienState = AlienState.Attacking;\n",
    "Console.WriteLine(alienState);\n"
   ]
  },
  {
   "cell_type": "markdown",
   "metadata": {},
   "source": [
    "This program prints the ToString result returned by the AlienState variable, which will output the string “Attacking” in this case.\n",
    "\n",
    "Unless specified otherwise, an enumerated type is based on the int type and the enumerated values are numbered starting at 0. You can modify this by adding extra information to the declaration of the enum.\n",
    "\n",
    "You would do this if you want to set particular values to be used in JSON and XML files when enumerated variables are stored. The code here creates an AlienState enum that is stored in a byte type, and has the given values for sleeping, attacking, and destroyed."
   ]
  }
 ],
 "metadata": {
  "language_info": {
   "name": "python"
  }
 },
 "nbformat": 4,
 "nbformat_minor": 2
}
