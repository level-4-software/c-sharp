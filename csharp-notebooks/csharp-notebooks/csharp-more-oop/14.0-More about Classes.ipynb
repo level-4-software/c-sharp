{
 "cells": [
  {
   "cell_type": "markdown",
   "metadata": {},
   "source": [
    "# More About Classes\n",
    "\n",
    "You can think of a class as providing the template or plans that are required to create an instance of that class. Note that declaring a class does not create any instances of that class. An instance of a class is created when the new keyword is used. When the new keyword is used to create an instance of a class the following sequence is performed:\n",
    "\n",
    "The program code that implements the class is loaded into memory, if it is not already present.\n",
    "\n",
    "If this is the first time that the class has been referenced, any static members of the class are initialized and the static constructor is called.\n",
    "\n",
    "The constructor in the class is called.\n",
    "\n",
    "A class can contain members that are methods, data variables, or properties. A class method allows a class to provide behaviors that can be used by code running in other classes. Data variables allow a class to maintain state and manage the storage of information and properties provide a means for managing access to data within a class."
   ]
  }
 ],
 "metadata": {
  "language_info": {
   "name": "python"
  }
 },
 "nbformat": 4,
 "nbformat_minor": 2
}
