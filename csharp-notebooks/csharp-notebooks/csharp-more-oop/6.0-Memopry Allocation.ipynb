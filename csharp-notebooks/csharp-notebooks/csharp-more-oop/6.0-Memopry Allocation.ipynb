{
 "cells": [
  {
   "cell_type": "markdown",
   "metadata": {},
   "source": [
    "### Memory Allocation Explained\n",
    "\n",
    "#### Value Types\n",
    "Memory for value type variables is allocated on the stack. The stack is a memory area used for short-lived data, which grows and shrinks as functions or blocks of code start and end. Variables created in a code block live in a stack frame, and this frame is removed once the block is done executing. This process is highly efficient for managing memory.\n",
    "\n",
    "#### Reference Types\n",
    "Memory for reference type variables is allocated on the heap. Unlike the stack, the heap is a larger, more flexible memory area managed for the entire application's lifetime. Since reference types can be passed around different parts of a program and their lifespan isn't tied to the block where they're created, they can't be discarded as easily as stack-allocated variables. Instead, objects on the heap remain until garbage collection runs and determines they're no longer referenced anywhere, making them safe to delete.\n",
    "    "
   ]
  }
 ],
 "metadata": {
  "language_info": {
   "name": "python"
  }
 },
 "nbformat": 4,
 "nbformat_minor": 2
}
