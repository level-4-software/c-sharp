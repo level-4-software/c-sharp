{
 "cells": [
  {
   "cell_type": "markdown",
   "metadata": {},
   "source": [
    "# More About Constructors\n",
    "\n",
    "A constructor is a special method for initializing new objects, used with both value types (like structures) and reference types (like classes). It shares its name with its class and lacks a return type. Constructors can check the validity of input parameters to ensure objects start with appropriate data. If input data fails these checks, the constructor should throw an exception to block the creation of an object with invalid data. For instance, an Alien class constructor might throw an exception if it receives negative values for coordinates, preventing the creation of an Alien in an invalid state.\n",
    "\n"
   ]
  },
  {
   "cell_type": "code",
   "execution_count": 1,
   "metadata": {
    "vscode": {
     "languageId": "polyglot-notebook"
    }
   },
   "outputs": [
    {
     "name": "stdout",
     "output_type": "stream",
     "text": [
      "x X: 100 Y: 100 Lives: 3\r\n"
     ]
    }
   ],
   "source": [
    "using System;\n",
    "\n",
    "// Define the Alien class with properties for its position (X, Y) and the number of Lives.\n",
    "class Alien\n",
    "{\n",
    "    // Public properties for the Alien's coordinates and lives.\n",
    "    public int X;\n",
    "    public int Y;\n",
    "    public int Lives;\n",
    "\n",
    "    // Constructor that takes X and Y coordinates as parameters.\n",
    "    // This method initializes a new instance of the Alien class.\n",
    "    public Alien(int x, int y)\n",
    "    {\n",
    "        // Check if the provided coordinates are valid (non-negative).\n",
    "        // If either coordinate is negative, throw an exception to indicate invalid input.\n",
    "        if (x < 0 || y < 0)\n",
    "            throw new ArgumentOutOfRangeException(\"Invalid position\");\n",
    "\n",
    "        // If the coordinates are valid, assign them to the Alien's properties.\n",
    "        X = x;\n",
    "        Y = y;\n",
    "        // Set the default number of lives to 3.\n",
    "        Lives = 3;\n",
    "    }\n",
    "\n",
    "    // Override the ToString method to provide a string representation of the Alien.\n",
    "    // This makes it easier to display the Alien's state in a readable format.\n",
    "    public override string ToString()\n",
    "    {\n",
    "        // Format and return the Alien's properties as a string.\n",
    "        return $\"X: {X} Y: {Y} Lives: {Lives}\";\n",
    "    }\n",
    "}\n",
    "\n",
    "// Demonstration of using the Alien class.\n",
    "{\n",
    "    // Create a new Alien instance with positive coordinates.\n",
    "    // This should succeed as the coordinates are valid.\n",
    "    Alien x = new Alien(100, 100);\n",
    "    // Print the state of the Alien object to the console.\n",
    "    Console.WriteLine($\"x {x}\");\n",
    "}\n"
   ]
  },
  {
   "cell_type": "markdown",
   "metadata": {},
   "source": [
    "Constructors can be given access to modifiers. If an object only has a private constructor it cannot be instantiated unless the object contains a public factory method that can be called to create instances of the class.\n",
    "\n",
    "Constructors can be overloaded, so an object can contain multiple versions of a constructor with different signatures. Here you can see an Alien class that allows an alien to be constructed with a particular number of lives, or a value of three lives, depending on which constructor is called."
   ]
  },
  {
   "cell_type": "code",
   "execution_count": 2,
   "metadata": {
    "dotnet_interactive": {
     "language": "csharp"
    },
    "polyglot_notebook": {
     "kernelName": "csharp"
    },
    "vscode": {
     "languageId": "polyglot-notebook"
    }
   },
   "outputs": [
    {
     "name": "stdout",
     "output_type": "stream",
     "text": [
      "Alien at (100, 100) with 5 lives.\n",
      "Alien at (50, 50) with 3 default lives.\n"
     ]
    }
   ],
   "source": [
    "using System;\n",
    "\n",
    "// Define the Alien class to represent an alien with properties for its position and lives.\n",
    "class Alien\n",
    "{\n",
    "    // Public properties to hold the Alien's coordinates on the screen and the number of lives.\n",
    "    public int X;\n",
    "    public int Y;\n",
    "    public int Lives;\n",
    "\n",
    "    // Constructor with parameters for position and number of lives.\n",
    "    // This allows for creating an Alien with specific values.\n",
    "    public Alien(int x, int y, int lives)\n",
    "    {\n",
    "        // Validate the position. If either coordinate is negative, throw an exception.\n",
    "        if (x < 0 || y < 0)\n",
    "            throw new ArgumentOutOfRangeException(\"Invalid position\", \"Coordinates must be non-negative.\");\n",
    "\n",
    "        // Assign the validated position and specified number of lives to the Alien.\n",
    "        X = x;\n",
    "        Y = y;\n",
    "        Lives = lives;\n",
    "    }\n",
    "\n",
    "    // Overloaded constructor with parameters for position only.\n",
    "    // This version sets a default value for Lives.\n",
    "    public Alien(int x, int y)\n",
    "    {\n",
    "        // Assign the position to the Alien, assuming the coordinates are valid.\n",
    "        // In a real-world scenario, you might also want to validate the coordinates here.\n",
    "        X = x;\n",
    "        Y = y;\n",
    "        // Default the number of lives to 3.\n",
    "        Lives = 3;\n",
    "    }\n",
    "}\n",
    "\n",
    "// Example usage of the Alien class.\n",
    "{\n",
    "    // Create an Alien instance with specified coordinates and lives.\n",
    "    Alien alienWithLives = new Alien(100, 100, 5);\n",
    "    Console.WriteLine($\"Alien at ({alienWithLives.X}, {alienWithLives.Y}) with {alienWithLives.Lives} lives.\");\n",
    "\n",
    "    // Create another Alien instance with default lives.\n",
    "    Alien defaultLivesAlien = new Alien(50, 50);\n",
    "    Console.WriteLine($\"Alien at ({defaultLivesAlien.X}, {defaultLivesAlien.Y}) with {defaultLivesAlien.Lives} default lives.\");\n",
    "}\n"
   ]
  },
  {
   "cell_type": "markdown",
   "metadata": {},
   "source": [
    "A program can avoid code repetition by making one constructor call another constructor by use of the keyword this. The this keyword is used in the constructor method signature as shown. It forms a call of another constructor in the object. In the program below the parameters to the call of one constructor are passed into a call of another, along with an additional lives value. Note that this means the actual body of the constructor is empty, because all of the work is performed by the call to the other constructor. Another way to provide default values to a constructor is to make use of optional parameters. These are described in “Optional and named parameters” in the section below."
   ]
  },
  {
   "cell_type": "code",
   "execution_count": 3,
   "metadata": {
    "dotnet_interactive": {
     "language": "csharp"
    },
    "polyglot_notebook": {
     "kernelName": "csharp"
    },
    "vscode": {
     "languageId": "polyglot-notebook"
    }
   },
   "outputs": [
    {
     "name": "stdout",
     "output_type": "stream",
     "text": [
      "X: 100 Y: 100 Lives: 5\n",
      "X: 50 Y: 50 Lives: 3\n"
     ]
    }
   ],
   "source": [
    "using System;\n",
    "\n",
    "// Define the Alien class to model an alien character in a game.\n",
    "class Alien\n",
    "{\n",
    "    // Properties to store the alien's position and number of lives.\n",
    "    public int X;\n",
    "    public int Y;\n",
    "    public int Lives;\n",
    "\n",
    "    // Constructor for initializing an Alien with specified coordinates and lives.\n",
    "    // Throws an exception if coordinates are invalid (i.e., negative).\n",
    "    public Alien(int x, int y, int lives)\n",
    "    {\n",
    "        if (x < 0 || y < 0)\n",
    "            throw new ArgumentOutOfRangeException(\"Invalid position\", \"Coordinates must be non-negative.\");\n",
    "\n",
    "        X = x;\n",
    "        Y = y;\n",
    "        Lives = lives;\n",
    "    }\n",
    "\n",
    "    // Overloaded constructor for initializing an Alien with coordinates.\n",
    "    // Uses the main constructor and sets a default of 3 lives.\n",
    "    public Alien(int x, int y) : this(x, y, 3)\n",
    "    {\n",
    "    }\n",
    "\n",
    "    // Overrides the ToString method to provide a textual representation of an Alien.\n",
    "    public override string ToString()\n",
    "    {\n",
    "        return $\"X: {X} Y: {Y} Lives: {Lives}\";\n",
    "    }\n",
    "}\n",
    "\n",
    "// Demonstrate creating and using Alien instances\n",
    "{\n",
    "    // Create an Alien with specific coordinates and lives\n",
    "    Alien alienWithLives = new Alien(100, 100, 5);\n",
    "    Console.WriteLine(alienWithLives);\n",
    "\n",
    "    // Create another Alien using the constructor that defaults lives to 3\n",
    "    Alien defaultLivesAlien = new Alien(50, 50);\n",
    "    Console.WriteLine(defaultLivesAlien);\n",
    "}\n"
   ]
  },
  {
   "cell_type": "markdown",
   "metadata": {},
   "source": [
    "This code defines an Alien class with functionality to initialize aliens with specific coordinates and a number of lives. It includes comments explaining each part of the class, such as properties for position and lives, constructors for creating instances with or without specifying lives, and a ToString method for easy printing. You can copy and execute this code in a .NET Interactive notebook cell to see how it works, demonstrating object initialization and method overriding.\n",
    "\n",
    "When creating objects that are part of a class hierarchy, a programmer must ensure that information required by the constructor of a parent object is passed into a parent constructor. This will be discussed in more detail in Skill 2.4, Create and implement a class hierarchy.”"
   ]
  }
 ],
 "metadata": {
  "language_info": {
   "name": "python"
  }
 },
 "nbformat": 4,
 "nbformat_minor": 2
}
