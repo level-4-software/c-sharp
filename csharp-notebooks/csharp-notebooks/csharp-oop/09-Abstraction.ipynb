{
 "cells": [
  {
   "cell_type": "markdown",
   "metadata": {},
   "source": [
    "# Data Abstraction: Simplifying Complex Details\n",
    "\n",
    "* Data abstraction is like giving someone a remote control instead of explaining how a TV works. You only show what's necessary, like the buttons to change channels or volume, without exposing the complex wiring inside. In programming, this concept helps us focus on what an object does, not how it does it. *\n",
    "\n",
    "Abstraction can be achieved through two main ways: abstract classes or interfaces (which we'll explore more in the next chapter).\n",
    "\n",
    "### Using the abstract Keyword\n",
    "\n",
    "The abstract keyword plays a crucial role in data abstraction, and it's used in two specific areas:\n",
    "\n",
    "- **Abstract Class:** Think of this as a basic template for other classes. It's like a partially built car that can't be driven off the lot. You can't create objects directly from it; instead, other classes must \"inherit\" from it, adding the missing pieces.\n",
    "\n",
    "- **Abstract Method:** This is a method declared in an abstract class that doesn't do anything on its own—it's just a declaration. The classes that inherit from the abstract class provide the actual \"doing\" part.\n",
    "\n",
    "An abstract class isn't all or nothing; it can have a mix of abstract methods (those without any implementation) and regular methods (those with implementation).\n",
    "\n",
    "In essence, data abstraction lets us hide the complexity and show only what's necessary, making our code cleaner and easier to understand.\n"
   ]
  },
  {
   "cell_type": "code",
   "execution_count": null,
   "metadata": {
    "dotnet_interactive": {
     "language": "csharp"
    },
    "polyglot_notebook": {
     "kernelName": "csharp"
    },
    "vscode": {
     "languageId": "polyglot-notebook"
    }
   },
   "outputs": [],
   "source": [
    "abstract class Animal \n",
    "{\n",
    "  public abstract void character();\n",
    "  public void speak() \n",
    "  {\n",
    "    Console.WriteLine(\"It is more fun to talk with someone who doesn’t use long, difficult words but rather short, easy words like, ‘What about lunch?’\");\n",
    "  }\n",
    "}"
   ]
  },
  {
   "cell_type": "markdown",
   "metadata": {},
   "source": [
    "From the example above, it is not possible to create an object of the Animal class:"
   ]
  },
  {
   "cell_type": "code",
   "execution_count": 9,
   "metadata": {
    "dotnet_interactive": {
     "language": "csharp"
    },
    "polyglot_notebook": {
     "kernelName": "csharp"
    },
    "vscode": {
     "languageId": "polyglot-notebook"
    }
   },
   "outputs": [
    {
     "ename": "Error",
     "evalue": "(1,17): error CS0144: Cannot create an instance of the abstract type or interface 'Animal'",
     "output_type": "error",
     "traceback": [
      "(1,17): error CS0144: Cannot create an instance of the abstract type or interface 'Animal'"
     ]
    }
   ],
   "source": [
    "Animal Piglet = new Animal(); // Will generate an error (Cannot create an instance of the abstract class or interface 'Animal')"
   ]
  },
  {
   "cell_type": "markdown",
   "metadata": {},
   "source": [
    "To access the abstract class, it must be inherited from another class. Let's convert the Animal class we used in the Polymorphism chapter to an abstract class.\n",
    "\n",
    "Remember from the Inheritance notebook that we use the : symbol to inherit from a class, and that we use the `override` keyword to override the base class method.\n",
    "\n",
    "Complete the following to make this code output"
   ]
  },
  {
   "cell_type": "code",
   "execution_count": 8,
   "metadata": {
    "dotnet_interactive": {
     "language": "csharp"
    },
    "polyglot_notebook": {
     "kernelName": "csharp"
    },
    "vscode": {
     "languageId": "polyglot-notebook"
    }
   },
   "outputs": [
    {
     "name": "stdout",
     "output_type": "stream",
     "text": [
      "Piglet\n",
      "It is more fun to talk with someone who doesn’t use long, difficult words but rather short, easy words like, ‘What about lunch?’\n"
     ]
    }
   ],
   "source": [
    "// Abstract class\n",
    "abstract class Animal\n",
    "{\n",
    "  // Abstract method (does not have a body)\n",
    "  public abstract void character();\n",
    "  // Regular method\n",
    "  public void speak() \n",
    "  {\n",
    "    Console.WriteLine(\"It is more fun to talk with someone who doesn’t use long, difficult words but rather short, easy words like, ‘What about lunch?’\");\n",
    "  }\n",
    "}\n",
    "\n",
    "class Pig : Animal  // Derived class (child) \n",
    "{\n",
    "  public override void character() \n",
    "  {\n",
    "    Console.WriteLine(\"Piglet\");\n",
    "  }\n",
    "}\n",
    "\n",
    "Animal Piglet = new Pig();\n",
    "\n",
    "Piglet.character();\n",
    "Piglet.speak();"
   ]
  },
  {
   "cell_type": "markdown",
   "metadata": {},
   "source": [
    "### Why And When To Use Abstract Classes and Methods?\n",
    "\n",
    "-To achieve security - hide certain details and only show the important details of an object.\n",
    "\n",
    "Note: Abstraction can also be achieved with Interfaces, which you will learn more about in the next chapter."
   ]
  }
 ],
 "metadata": {
  "language_info": {
   "name": "python"
  }
 },
 "nbformat": 4,
 "nbformat_minor": 2
}
