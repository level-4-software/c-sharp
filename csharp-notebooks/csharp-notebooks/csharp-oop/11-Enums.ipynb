{
 "cells": [
  {
   "cell_type": "markdown",
   "metadata": {},
   "source": [
    "# C# Enums\n",
    "\n",
    "An `enum` in C# is a unique type of \"class\" designed to hold a set of fixed constants. These constants are read-only values that do not change.\n",
    "\n",
    "To define an `enum`, you'll use the enum keyword, which takes the place of class or interface in declarations. List the constants within the `enum`, separating each with a comma:"
   ]
  },
  {
   "cell_type": "code",
   "execution_count": 1,
   "metadata": {
    "vscode": {
     "languageId": "polyglot-notebook"
    }
   },
   "outputs": [],
   "source": [
    "enum Level \n",
    "{\n",
    "  Low,\n",
    "  Medium,\n",
    "  High\n",
    "}"
   ]
  },
  {
   "cell_type": "markdown",
   "metadata": {},
   "source": [
    "You can access enum items with the dot syntax:"
   ]
  },
  {
   "cell_type": "code",
   "execution_count": 2,
   "metadata": {
    "dotnet_interactive": {
     "language": "csharp"
    },
    "polyglot_notebook": {
     "kernelName": "csharp"
    },
    "vscode": {
     "languageId": "polyglot-notebook"
    }
   },
   "outputs": [
    {
     "name": "stdout",
     "output_type": "stream",
     "text": [
      "Medium\r\n"
     ]
    }
   ],
   "source": [
    "Level myVar = Level.Medium;\n",
    "Console.WriteLine(myVar);"
   ]
  },
  {
   "cell_type": "markdown",
   "metadata": {},
   "source": [
    "Enum is short for \"enumerations\", which means \"specifically listed\"."
   ]
  },
  {
   "cell_type": "markdown",
   "metadata": {},
   "source": [
    "### Enum inside a Class\n",
    "\n",
    "You can also have an enum inside a class:"
   ]
  },
  {
   "cell_type": "code",
   "execution_count": 8,
   "metadata": {
    "dotnet_interactive": {
     "language": "csharp"
    },
    "polyglot_notebook": {
     "kernelName": "csharp"
    },
    "vscode": {
     "languageId": "polyglot-notebook"
    }
   },
   "outputs": [
    {
     "name": "stdout",
     "output_type": "stream",
     "text": [
      "Medium\r\n"
     ]
    }
   ],
   "source": [
    "using System;\n",
    "\n",
    "class Program\n",
    "{\n",
    "    public enum Level\n",
    "    {\n",
    "        Low,\n",
    "        Medium,\n",
    "        High\n",
    "    }\n",
    "\n",
    "    public static void DisplayLevel(Level level)\n",
    "    {\n",
    "        Console.WriteLine(level);\n",
    "    }\n",
    "}\n",
    "\n",
    "// Using the enum from within the Program class to display a value\n",
    "Program.DisplayLevel(Program.Level.Medium);\n"
   ]
  },
  {
   "cell_type": "markdown",
   "metadata": {},
   "source": [
    "### Enum Values\n",
    "\n",
    "By default, the first item of an enum has the value 0. The second has the value 1, and so on.\n",
    "\n",
    "To get the integer value from an item, you must explicitly convert the item to an int:"
   ]
  },
  {
   "cell_type": "code",
   "execution_count": 10,
   "metadata": {
    "dotnet_interactive": {
     "language": "csharp"
    },
    "polyglot_notebook": {
     "kernelName": "csharp"
    },
    "vscode": {
     "languageId": "polyglot-notebook"
    }
   },
   "outputs": [
    {
     "name": "stdout",
     "output_type": "stream",
     "text": [
      "3\r\n"
     ]
    }
   ],
   "source": [
    "enum Months\n",
    "{\n",
    "  January,    // 0\n",
    "  February,   // 1\n",
    "  March,      // 2\n",
    "  April,      // 3\n",
    "  May,        // 4\n",
    "  June,       // 5\n",
    "  July        // 6\n",
    "}\n",
    "\n",
    "int myNum = (int) Months.April;\n",
    "Console.WriteLine(myNum);"
   ]
  },
  {
   "cell_type": "markdown",
   "metadata": {},
   "source": [
    "You can also assign your own enum values, and the next items will update their numbers accordingly:"
   ]
  },
  {
   "cell_type": "code",
   "execution_count": 11,
   "metadata": {
    "dotnet_interactive": {
     "language": "csharp"
    },
    "polyglot_notebook": {
     "kernelName": "csharp"
    },
    "vscode": {
     "languageId": "polyglot-notebook"
    }
   },
   "outputs": [
    {
     "name": "stdout",
     "output_type": "stream",
     "text": [
      "7\r\n"
     ]
    }
   ],
   "source": [
    "enum Months\n",
    "{\n",
    "  January,    // 0\n",
    "  February,   // 1\n",
    "  March=6,    // 6\n",
    "  April,      // 7\n",
    "  May,        // 8\n",
    "  June,       // 9\n",
    "  July        // 10\n",
    "}\n",
    "\n",
    "  int myNum = (int) Months.April;\n",
    "  Console.WriteLine(myNum);"
   ]
  },
  {
   "cell_type": "markdown",
   "metadata": {},
   "source": [
    "### Enum in a Switch Statement\n",
    "\n",
    "Enums are often used in switch statements to check for corresponding values:"
   ]
  },
  {
   "cell_type": "code",
   "execution_count": 12,
   "metadata": {
    "dotnet_interactive": {
     "language": "csharp"
    },
    "polyglot_notebook": {
     "kernelName": "csharp"
    },
    "vscode": {
     "languageId": "polyglot-notebook"
    }
   },
   "outputs": [
    {
     "name": "stdout",
     "output_type": "stream",
     "text": [
      "Medium level\r\n"
     ]
    }
   ],
   "source": [
    "enum Level \n",
    "{\n",
    "  Low,\n",
    "  Medium,\n",
    "  High\n",
    "}\n",
    "\n",
    "\n",
    "  Level myVar = Level.Medium;\n",
    "  switch(myVar) \n",
    "  {\n",
    "    case Level.Low:\n",
    "      Console.WriteLine(\"Low level\");\n",
    "      break;\n",
    "    case Level.Medium:\n",
    "       Console.WriteLine(\"Medium level\");\n",
    "      break;\n",
    "    case Level.High:\n",
    "      Console.WriteLine(\"High level\");\n",
    "      break;\n",
    "  }\n"
   ]
  },
  {
   "cell_type": "markdown",
   "metadata": {},
   "source": [
    "#### Why And When To Use Enums?\n",
    "\n",
    "Use enums when you have values that you know aren't going to change, like month days, days, colors, deck of cards, etc."
   ]
  }
 ],
 "metadata": {
  "language_info": {
   "name": "python"
  }
 },
 "nbformat": 4,
 "nbformat_minor": 2
}
