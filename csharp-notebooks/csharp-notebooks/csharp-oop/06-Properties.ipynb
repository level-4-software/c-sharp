{
 "cells": [
  {
   "cell_type": "markdown",
   "metadata": {},
   "source": [
    "# C# Properties (Get and Set)\n",
    "\n",
    "### Properties and Encapsulation\n",
    "\n",
    "Before we start to explain properties, you should have a basic understanding of **Encapsulation**.\n",
    "\n",
    "The meaning of **Encapsulation**, is to make sure that *sensitive* data is hidden from users. To achieve this, you must:\n",
    "\n",
    "- declare fields/variables as private\n",
    "- provide public get and set methods, through properties, to access and update the value of a private field\n",
    "\n",
    "### Properties\n",
    "\n",
    "You learned from the previously that private variables can only be accessed within the same class (an outside class has no access to it). However, sometimes we need to access them - and it can be done with properties.\n",
    "\n",
    "A property is like a combination of a variable and a method, and it has two methods: a **get** and a **set** method:\n"
   ]
  },
  {
   "cell_type": "code",
   "execution_count": null,
   "metadata": {
    "vscode": {
     "languageId": "polyglot-notebook"
    }
   },
   "outputs": [],
   "source": [
    "class Person\n",
    "{\n",
    "  private string name; // field\n",
    "\n",
    "  public string Name   // property\n",
    "  {\n",
    "    get { return name; }   // get method\n",
    "    set { name = value; }  // set method\n",
    "  }\n",
    "}"
   ]
  },
  {
   "cell_type": "markdown",
   "metadata": {},
   "source": [
    "### Explanation\n",
    "\n",
    "- The Name property is associated with the name field. It is a good practice to use the same name for both the property and the private field, but with an uppercase first letter.\n",
    "- The get method returns the value of the variable name.\n",
    "- The set method assigns a value to the name variable. The value keyword represents the value we assign to the property."
   ]
  },
  {
   "cell_type": "code",
   "execution_count": null,
   "metadata": {
    "dotnet_interactive": {
     "language": "csharp"
    },
    "polyglot_notebook": {
     "kernelName": "csharp"
    },
    "vscode": {
     "languageId": "polyglot-notebook"
    }
   },
   "outputs": [],
   "source": [
    "Person myObj = new Person();\n",
    "myObj.Name = \"Peter\";\n",
    "Console.WriteLine(myObj.Name);"
   ]
  },
  {
   "cell_type": "markdown",
   "metadata": {},
   "source": [
    "### Automatic Properties (Short Hand)\n",
    "\n",
    "C# also provides a way to use short-hand / automatic properties, where you do not have to define the field for the property, and you only have to write get; and set; inside the property.\n",
    "\n",
    "The following example will produce the same result as the example above. The only difference is that there is less code:"
   ]
  },
  {
   "cell_type": "code",
   "execution_count": null,
   "metadata": {
    "dotnet_interactive": {
     "language": "csharp"
    },
    "polyglot_notebook": {
     "kernelName": "csharp"
    },
    "vscode": {
     "languageId": "polyglot-notebook"
    }
   },
   "outputs": [],
   "source": [
    "class Person\n",
    "{\n",
    "  public string Name  // property\n",
    "  { get; set; }\n",
    "}\n",
    "\n",
    "\n",
    "Person myObj = new Person();\n",
    "myObj.Name = \"Petra\";\n",
    "Console.WriteLine(myObj.Name);\n"
   ]
  },
  {
   "cell_type": "markdown",
   "metadata": {},
   "source": [
    "### Why do we use Encapsulation?\n",
    "\n",
    "- Better control of class members (reduce the possibility of yourself (or others) to mess up the code)\n",
    "- Fields can be made read-only (if you only use the get method), or write-only (if you only use the set method)\n",
    "- Flexible: the programmer can change one part of the code without affecting other parts\n",
    "- Increased security of data"
   ]
  }
 ],
 "metadata": {
  "language_info": {
   "name": "python"
  }
 },
 "nbformat": 4,
 "nbformat_minor": 2
}
