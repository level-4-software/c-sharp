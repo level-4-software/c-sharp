{
 "cells": [
  {
   "cell_type": "markdown",
   "metadata": {},
   "source": [
    "# C# Inheritance\n",
    "\n",
    "### Inheritance (Derived and Base Class)\n",
    "\n",
    "In C#, it is possible to inherit fields and methods from one class to another. We group the \"inheritance concept\" into two categories:\n",
    "\n",
    "- Derived Class (child) - the class that inherits from another class\n",
    "- Base Class (parent) - the class being inherited from\n",
    "- To inherit from a class, use the : symbol.\n",
    "\n",
    "In the example below, the Car class (child) inherits the fields and methods from the Vehicle class (parent):"
   ]
  },
  {
   "cell_type": "code",
   "execution_count": null,
   "metadata": {
    "vscode": {
     "languageId": "polyglot-notebook"
    }
   },
   "outputs": [],
   "source": [
    "class Vehicle  // base class (parent) \n",
    "{\n",
    "  public string brand = \"Ford\";  // Vehicle field\n",
    "  public void honk()             // Vehicle method \n",
    "  {                    \n",
    "    Console.WriteLine(\"Tuut, tuut!\");\n",
    "  }\n",
    "}\n",
    "\n",
    "class Car : Vehicle  // derived class (child)\n",
    "{\n",
    "  public string modelName = \"Mustang\";  // Car field\n",
    "}\n"
   ]
  },
  {
   "cell_type": "code",
   "execution_count": null,
   "metadata": {
    "dotnet_interactive": {
     "language": "csharp"
    },
    "polyglot_notebook": {
     "kernelName": "csharp"
    },
    "vscode": {
     "languageId": "polyglot-notebook"
    }
   },
   "outputs": [],
   "source": [
    "\n",
    "// Create a myCar object\n",
    "Car myCar = new Car();\n",
    "\n",
    "// Call the honk() method (From the Vehicle class) on the myCar object\n",
    "myCar.honk();\n",
    "\n",
    "// Display the value of the brand field (from the Vehicle class) and the value of the modelName from the Car class\n",
    "Console.WriteLine(myCar.brand + \" \" + myCar.modelName);\n"
   ]
  },
  {
   "cell_type": "markdown",
   "metadata": {},
   "source": [
    "### Why And When To Use \"Inheritance\"?\n",
    "- It is useful for code reusability: reuse fields and methods of an existing class when you create a new class."
   ]
  },
  {
   "cell_type": "markdown",
   "metadata": {},
   "source": [
    "## The `sealed` Keyword\n",
    "If you don't want other classes to inherit from a class, use the **sealed** keyword:"
   ]
  },
  {
   "cell_type": "code",
   "execution_count": 4,
   "metadata": {
    "dotnet_interactive": {
     "language": "csharp"
    },
    "polyglot_notebook": {
     "kernelName": "csharp"
    },
    "vscode": {
     "languageId": "polyglot-notebook"
    }
   },
   "outputs": [],
   "source": [
    "sealed class Vehicle  // base class (parent) \n",
    "{\n",
    "  public string brand = \"Ford\";  // Vehicle field\n",
    "  public void honk()             // Vehicle method \n",
    "  {                    \n",
    "    Console.WriteLine(\"Tuut, tuut!\");\n",
    "  }\n",
    "}"
   ]
  },
  {
   "cell_type": "code",
   "execution_count": 5,
   "metadata": {
    "dotnet_interactive": {
     "language": "csharp"
    },
    "polyglot_notebook": {
     "kernelName": "csharp"
    },
    "vscode": {
     "languageId": "polyglot-notebook"
    }
   },
   "outputs": [
    {
     "ename": "Error",
     "evalue": "(1,13): error CS0509: 'Car': cannot derive from sealed type 'Vehicle'",
     "output_type": "error",
     "traceback": [
      "(1,13): error CS0509: 'Car': cannot derive from sealed type 'Vehicle'"
     ]
    }
   ],
   "source": [
    "class Car : Vehicle  // derived class (child)\n",
    "{\n",
    "  public string modelName = \"Mustang\";  // Car field\n",
    "}"
   ]
  },
  {
   "cell_type": "code",
   "execution_count": 6,
   "metadata": {
    "dotnet_interactive": {
     "language": "csharp"
    },
    "polyglot_notebook": {
     "kernelName": "csharp"
    },
    "vscode": {
     "languageId": "polyglot-notebook"
    }
   },
   "outputs": [
    {
     "name": "stdout",
     "output_type": "stream",
     "text": [
      "Tuut, tuut!\n",
      "Ford Mustang\n"
     ]
    }
   ],
   "source": [
    "// Create a myCar object\n",
    "Car myCar = new Car();\n",
    "\n",
    "// Call the honk() method (From the Vehicle class) on the myCar object\n",
    "myCar.honk();\n",
    "\n",
    "// Display the value of the brand field (from the Vehicle class) and the value of the modelName from the Car class\n",
    "Console.WriteLine(myCar.brand + \" \" + myCar.modelName);"
   ]
  }
 ],
 "metadata": {
  "language_info": {
   "name": "python"
  }
 },
 "nbformat": 4,
 "nbformat_minor": 2
}
