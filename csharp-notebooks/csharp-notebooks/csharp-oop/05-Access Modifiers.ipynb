{
 "cells": [
  {
   "cell_type": "markdown",
   "metadata": {},
   "source": [
    "# C# Access Modifiers\n",
    "\n",
    "We have already seen some access modifers\n",
    "\n",
    "```csharp\n",
    "private string colour;\n",
    "```\n",
    "\n",
    "The `private` keyword is an **access modifer**, which is used to set the access level/visibility for classes, fields, methods, and properties.\n",
    "\n",
    "### Types of Access Modifer\n",
    "\n",
    "C# has the following acess modifiers:\n",
    "\n",
    "|Modifer|Description|\n",
    "|---|---|\n",
    "|public|The code is accessible for all classes|\n",
    "|private|The code is only accessible within the same class|\n",
    "|protected|The code is accessible within the same class, or in a class that is inherited from the class - we will look more into inheritance later on|\n",
    "|internal|The code is only accessible withing it's own assembly, but not from another assembly. We will look into this more later on|\n",
    "\n",
    "There are also two combinations: **protected internal** and **private protected**\n",
    "\n",
    "### Private and Public Modifers\n",
    "\n",
    "If you declare a field with a `private` access modifier, it can only be accessed within the same class."
   ]
  },
  {
   "cell_type": "code",
   "execution_count": null,
   "metadata": {
    "vscode": {
     "languageId": "polyglot-notebook"
    }
   },
   "outputs": [],
   "source": [
    "class Car\n",
    "{\n",
    "    private string privateModel = \"Mustang\"; // A private field named 'model'\n",
    "    public string publicModel = \"Porsche\"; // A public field named 'model'\n",
    "}"
   ]
  },
  {
   "cell_type": "markdown",
   "metadata": {},
   "source": [
    "Now try to return the `privateModel` - this should fail doe it it's access modifier **private**, which means it can only be accessed from inside the class."
   ]
  },
  {
   "cell_type": "code",
   "execution_count": null,
   "metadata": {
    "vscode": {
     "languageId": "polyglot-notebook"
    }
   },
   "outputs": [],
   "source": [
    "Car myObj = new Car(); // Creating a new instance of the Car class\n",
    "Console.WriteLine(myObj.privateModel); // Attempting to print the 'privateMode' field"
   ]
  },
  {
   "cell_type": "markdown",
   "metadata": {},
   "source": [
    "Now try the same with `publicModel` - this should succeed as it is **public**."
   ]
  },
  {
   "cell_type": "code",
   "execution_count": null,
   "metadata": {
    "dotnet_interactive": {
     "language": "csharp"
    },
    "polyglot_notebook": {
     "kernelName": "csharp"
    },
    "vscode": {
     "languageId": "polyglot-notebook"
    }
   },
   "outputs": [],
   "source": [
    "Car myObj = new Car(); // Creating a new instance of the Car class\n",
    "Console.WriteLine(myObj.publicModel); // Attempting to print the 'publicModel' field"
   ]
  },
  {
   "cell_type": "markdown",
   "metadata": {},
   "source": [
    "\n",
    "### Why Access Modifiers?\n",
    "To control the visibility of class members (the security level of each individual class and class member).\n",
    "\n",
    "To achieve **Encapsulation** - which is the process of making sure that \"sensitive\" data is hidden from users. This is done by declaring fields as private.\n",
    "\n",
    "> By default, all members of a class are **private** if you don't specify an access modifier:"
   ]
  }
 ],
 "metadata": {
  "language_info": {
   "name": "python"
  }
 },
 "nbformat": 4,
 "nbformat_minor": 2
}
