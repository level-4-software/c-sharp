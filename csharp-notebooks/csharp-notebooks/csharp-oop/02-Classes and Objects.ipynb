# C# - Classes and Objects

Classes and objects are the foundational concepts of object-oriented programming (OOP). Understanding these concepts is crucial for working with any object-oriented programming language, including C#.

## What are Classes?

A **class** is essentially a blueprint or template from which objects are created. It defines a set of properties (which represent the state) and methods (which represent the behavior) that the instantiated objects will have. Think of a class as a sketch or design of a house that outlines its structure, design, and functionalities but isn't a house itself.

## What are Objects?

An **object** is an instance of a class. When a class is instantiated, you create an object that is based on that class's blueprint. This object will have the properties and methods defined by its class. Using the house analogy, if a class is the blueprint, an object would be an actual house built from that blueprint. Each house (object) built from the same blueprint (class) can have its own distinct characteristics, such as color or the number of doors, but follows the same basic design and functionalities outlined in the blueprint.

## Illustration of Class and Objects

Imagine we have a class named `Car`. This `Car` class defines properties such as `Make`, `Model`, and `Color`, and methods like `Start()` and `Stop()`. The class itself isn't a car; it just describes what a car is and what it can do.

When we create an instance of this `Car` class, we are creating an actual car object. This object can have specific values for its properties (`Make: Toyota`, `Model: Corolla`, `Color: Red`) and can perform the actions defined by its methods (`Start()`, `Stop()`).

```csharp
public class Car
{
    public string Make { get; set; }
    public string Model { get; set; }
    public string Color { get; set; }

    public void Start()
    {
        Console.WriteLine("Car is starting");
    }

    public void Stop()
    {
        Console.WriteLine("Car is stopping");
    }
}

// Creating an object of the Car class
Car myCar = new Car();
myCar.Make = "Toyota";
myCar.Model = "Corolla";
myCar.Color = "Red";

// Using the methods of the Car object
myCar.Start();
myCar.Stop();
