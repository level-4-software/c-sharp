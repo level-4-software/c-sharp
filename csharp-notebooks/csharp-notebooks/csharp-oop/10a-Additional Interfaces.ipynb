{
 "cells": [
  {
   "cell_type": "markdown",
   "metadata": {},
   "source": [
    "# More about Interfaces - IComparable\n",
    "\n",
    "So, Interfaces are used to establish contracts through which objects can interact with each other without knowing the implementation details.\n",
    "\n",
    "Interfaces are defined by using the interface keyword. An interface definition consists of a set of signatures for methods, properties, delegates, events, or indexers. An interface definition cannot consist of any data fields or any implementation details such as method bodies. \n",
    "\n",
    "A common interface defined in the System namespace is the IComparable namespace. This is a simple interface defined as follows:\n",
    "\n",
    "```csharp\n",
    "interface IComparable\n",
    "{\n",
    "   int CompareTo(object obj);\n",
    "}\n",
    "```\n",
    "\n",
    "The IComparable interface has a single method (CompareTo) that accepts an object and returns an int. The return value of this method indicates the result of comparing the given parameter with the current object. According to the documentation of the CompareTo method:\n",
    "\n",
    "If the instance is equal to the parameter, CompareTo returns 0. \n",
    "If the parameter value is less than the instance or if the parameter is null, then a positive value is returned.\n",
    "If the parameter value is greater than the instance, then a negative value is returned. \n",
    "If the parameter is not of the compatible type, then an ArgumentException is thrown.\n",
    "How does IComparable decide how to compare two Rectangle objects or two Employee objects? It doesn’t. The classes that are interested in such comparisons must implement the IComparable interface by providing a method body for the CompareTo method. Each class that implements IComparable is free to provide its own custom comparison logic inside the CompareTo method.\n",
    "\n",
    ">To integrate IComparable into the Animal class structure, let's assume we want to compare animals based on a new property, such as Name, since comparing based on >the animalSound method wouldn't be practical. This approach requires adding a Name property to the Animal class and implementing the IComparable interface to allow comparison \n",
    ">(and thereby sorting) of Animal objects based on their names.\n",
    ">\n",
    ">Here's how you can modify your class structure to include IComparable along with extensive comments:"
   ]
  },
  {
   "cell_type": "code",
   "execution_count": 1,
   "metadata": {
    "vscode": {
     "languageId": "polyglot-notebook"
    }
   },
   "outputs": [
    {
     "name": "stdout",
     "output_type": "stream",
     "text": [
      "The donkey says: After all, one can’t complain. I have my friends.\n",
      "The pig says: The things that make me different are the things that make me.\n",
      "Tigger says: It’s A Dangerous Path I Bounce… But I Bounce It Alone.\n"
     ]
    }
   ],
   "source": [
    "using System;\n",
    "\n",
    "// Base class (parent) that also implements IComparable to enable sorting of animals by name\n",
    "class Animal : IComparable<Animal>\n",
    "{\n",
    "    // Name property added for comparison purposes\n",
    "    public string Name { get; set; }\n",
    "\n",
    "    // Constructor to set the name of the animal\n",
    "    public Animal(string name)\n",
    "    {\n",
    "        Name = name;\n",
    "    }\n",
    "\n",
    "    public virtual void animalSound()\n",
    "    {\n",
    "        Console.WriteLine(\"Tigger says: It’s A Dangerous Path I Bounce… But I Bounce It Alone.\");\n",
    "    }\n",
    "\n",
    "    // Implementing CompareTo method from IComparable interface\n",
    "    public int CompareTo(Animal other)\n",
    "    {\n",
    "        // Compare Animals based on their Name property\n",
    "        return this.Name.CompareTo(other.Name);\n",
    "    }\n",
    "}\n",
    "\n",
    "// Derived class (child)\n",
    "class Pig : Animal\n",
    "{\n",
    "    public Pig(string name) : base(name) { }\n",
    "\n",
    "    public override void animalSound()\n",
    "    {\n",
    "        Console.WriteLine(\"The pig says: The things that make me different are the things that make me.\");\n",
    "    }\n",
    "}\n",
    "\n",
    "// Another derived class (child)\n",
    "class Donkey : Animal\n",
    "{\n",
    "    public Donkey(string name) : base(name) { }\n",
    "\n",
    "    public override void animalSound()\n",
    "    {\n",
    "        Console.WriteLine(\"The donkey says: After all, one can’t complain. I have my friends.\");\n",
    "    }\n",
    "}\n",
    "\n",
    "// Demonstration of using the Animal classes with IComparable\n",
    "{\n",
    "    Animal Tigger = new Animal(\"Tigger\");\n",
    "    Animal Piglet = new Pig(\"Piglet\");\n",
    "    Animal Eeyore = new Donkey(\"Eeyore\");\n",
    "\n",
    "    // Create an array of Animal objects\n",
    "    Animal[] animals = { Eeyore, Tigger, Piglet };\n",
    "\n",
    "    // Sort the animals array, which uses CompareTo method\n",
    "    Array.Sort(animals);\n",
    "\n",
    "    // Invoke animalSound method for each sorted Animal\n",
    "    foreach (Animal animal in animals)\n",
    "    {\n",
    "        animal.animalSound();\n",
    "    }\n",
    "}\n"
   ]
  }
 ],
 "metadata": {
  "language_info": {
   "name": "python"
  }
 },
 "nbformat": 4,
 "nbformat_minor": 2
}
