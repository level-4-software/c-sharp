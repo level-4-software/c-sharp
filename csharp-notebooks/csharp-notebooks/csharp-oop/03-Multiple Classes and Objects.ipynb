{
 "cells": [
  {
   "cell_type": "markdown",
   "metadata": {},
   "source": [
    "# C# Multiple Classes and Objects\n",
    "\n",
    "We can create multiple objects from one class.\n",
    "\n",
    "To complete these labs, you must first execute the two classes below:"
   ]
  },
  {
   "cell_type": "code",
   "execution_count": null,
   "metadata": {
    "vscode": {
     "languageId": "polyglot-notebook"
    }
   },
   "outputs": [],
   "source": [
    "public class Car\n",
    "{\n",
    "    private string make;\n",
    "    private string model;\n",
    "    private string colour;\n",
    "\n",
    "    public Car(string make, string model, string colour)\n",
    "    {\n",
    "        this.make = make;\n",
    "        this.model = model;\n",
    "        this.colour = colour;\n",
    "    }\n",
    "\n",
    "        public void DisplayInfo()\n",
    "        {\n",
    "            Console.WriteLine($\"This car is a {colour} {make} {model}\");\n",
    "        }\n",
    "\n",
    "        public void startCar()\n",
    "        {\n",
    "            Console.WriteLine($\"The {make} {model} is starting\");\n",
    "        }\n",
    "    }\n"
   ]
  },
  {
   "cell_type": "code",
   "execution_count": null,
   "metadata": {
    "dotnet_interactive": {
     "language": "csharp"
    },
    "polyglot_notebook": {
     "kernelName": "csharp"
    },
    "vscode": {
     "languageId": "polyglot-notebook"
    }
   },
   "outputs": [],
   "source": [
    "Car Ford = new Car(\"Ferrari\", \"F40\", \"Red\");\n",
    "Ford.DisplayInfo();\n",
    "Ford.startCar();"
   ]
  },
  {
   "cell_type": "markdown",
   "metadata": {},
   "source": [
    "Now create two more cars and invoke the __DisplayInfo()__ and __startCar()__ methods on both of them, then check your code is running properly."
   ]
  },
  {
   "cell_type": "code",
   "execution_count": null,
   "metadata": {
    "dotnet_interactive": {
     "language": "csharp"
    },
    "polyglot_notebook": {
     "kernelName": "csharp"
    },
    "vscode": {
     "languageId": "polyglot-notebook"
    }
   },
   "outputs": [],
   "source": []
  }
 ],
 "metadata": {
  "language_info": {
   "name": "python"
  }
 },
 "nbformat": 4,
 "nbformat_minor": 2
}
