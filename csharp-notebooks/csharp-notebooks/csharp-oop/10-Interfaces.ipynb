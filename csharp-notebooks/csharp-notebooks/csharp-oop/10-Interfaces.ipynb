{
 "cells": [
  {
   "cell_type": "markdown",
   "metadata": {},
   "source": [
    "# Interfaces: A Path to Abstraction in C#\n",
    "\n",
    "In C#, interfaces offer another way to apply the principle of abstraction. Think of an interface as a blueprint or a contract. It sets out a list of methods and properties that any class agreeing to follow the interface must implement, but it doesn't define how those methods and properties should actually work.\n",
    "\n",
    "### What is an Interface?\n",
    "\n",
    "An interface is like a promise. When a class chooses to implement an interface, it's making a promise to provide specific behavior (methods) or properties. \n",
    "\n",
    "However, an interface itself is totally abstract—meaning it doesn't provide any implementation details. It's all about the \"what\" and not the \"how\". \n",
    "\n",
    "All the methods and properties defined in an interface are inherently abstract; they don't have a body or implementation.\n",
    "\n",
    "In simpler terms, an interface tells a class, \n",
    "\n",
    "*\"You must be able to do these things, but you get to decide how to do them.\"*\n",
    "\n",
    "This approach is incredibly powerful for creating flexible and adaptable code, allowing different classes to fulfill the same set of operations while implementing them in diverse ways."
   ]
  },
  {
   "cell_type": "code",
   "execution_count": null,
   "metadata": {
    "dotnet_interactive": {
     "language": "csharp"
    },
    "polyglot_notebook": {
     "kernelName": "csharp"
    },
    "vscode": {
     "languageId": "polyglot-notebook"
    }
   },
   "outputs": [],
   "source": [
    "// interface\n",
    "interface Animal \n",
    "{\n",
    "  void animalSound(); // interface method (does not have a body)\n",
    "  void run(); // interface method (does not have a body)\n",
    "}"
   ]
  },
  {
   "cell_type": "markdown",
   "metadata": {},
   "source": [
    "It is considered good practice to start with the letter \"I\" at the beginning of an interface, as it makes it easier for yourself and others to remember that it is an interface and not a class.\n",
    "\n",
    "By default, members of an interface are abstract and public.\n",
    "\n",
    "Note: Interfaces can contain properties and methods, but not fields."
   ]
  },
  {
   "cell_type": "code",
   "execution_count": null,
   "metadata": {
    "dotnet_interactive": {
     "language": "csharp"
    },
    "polyglot_notebook": {
     "kernelName": "csharp"
    },
    "vscode": {
     "languageId": "polyglot-notebook"
    }
   },
   "outputs": [],
   "source": [
    "// Interface\n",
    "interface IAnimal \n",
    "{\n",
    "  void animalSound(); // interface method (does not have a body)\n",
    "}\n",
    "\n",
    "// Bear \"implements\" the IAnimal interface\n",
    "class Bear : IAnimal \n",
    "{\n",
    "  public void animalSound() \n",
    "  {\n",
    "    // The body of animalSound() is provided here\n",
    "    Console.WriteLine(\"It is more fun to talk with someone who doesn’t use long, difficult words but rather short, easy words like, ‘What about lunch?’\");\n",
    "\n",
    "  }\n",
    "}\n",
    "\n",
    "Bear Winnie  = new Bear();  // Create a Bear object\n",
    "Winnie.animalSound();\n"
   ]
  },
  {
   "cell_type": "markdown",
   "metadata": {},
   "source": [
    "### Understanding Interfaces\n",
    "\n",
    "Interfaces in C# offer another pathway to abstraction, similar to abstract classes but with distinct characteristics.\n",
    "\n",
    "#### Key Points on Interfaces:\n",
    "\n",
    "- Object Creation: Just like abstract classes, you can't directly create objects from an interface. For instance, you can't instantiate an object of \"IAnimal\".\n",
    "= Method Bodies: Interface methods are essentially promises. They declare what must be done, not how. The implementing class is responsible for defining the method bodies.\n",
    "- Implementation Requirements: When a class implements an interface, it commits to providing implementations for all the interface's methods.\n",
    "- Content Restrictions: Interfaces can include methods and properties but not fields (variables). This keeps them focused on defining behavior rather than storing state.\n",
    "- Accessibility and Abstraction: By default, all members of an interface are public and abstract. This means they must be implemented by any non-abstract class that implements the interface.\n",
    "- No Constructors: Interfaces cannot have constructors because they cannot be instantiated directly.\n",
    "\n",
    "#### Why and When to Use Interfaces?\n",
    "\n",
    "- Enhancing Security: Interfaces allow you to hide the implementation details and expose only the essential functionality of an object. This encapsulation is a cornerstone of secure, maintainable code.\n",
    "- Facilitating Multiple Inheritance: C# doesn't allow a class to inherit from more than one base class. Interfaces offer a workaround by letting a class implement multiple interfaces. This is useful when a class needs to exhibit behaviors from different sources.\n",
    "- To implement multiple interfaces, list them separated by commas.\n",
    "\n",
    "#### Example of Multiple Interface Implementation:\n",
    "\n",
    "```csharp\n",
    "class MyClass : IInterface1, IInterface2\n",
    "{\n",
    "    // Implement all methods from IInterface1 and IInterface2 here\n",
    "}\n",
    "```\n",
    "\n",
    "Let's create a simple example where MyClass implements two interfaces: IInterface1 and IInterface2. Each interface will define a method that MyClass must implement."
   ]
  },
  {
   "cell_type": "code",
   "execution_count": null,
   "metadata": {
    "dotnet_interactive": {
     "language": "csharp"
    },
    "polyglot_notebook": {
     "kernelName": "csharp"
    },
    "vscode": {
     "languageId": "polyglot-notebook"
    }
   },
   "outputs": [],
   "source": [
    "\n",
    "interface IInterface1\n",
    "{\n",
    "    void StartAction();\n",
    "}\n",
    "\n",
    "// Defines a contract for classes that can end an action\n",
    "interface IInterface2\n",
    "{\n",
    "    void EndAction();\n",
    "}\n",
    "\n",
    "class MyClass : IInterface1, IInterface2\n",
    "{\n",
    "    // Implementation of the StartAction method from IInterface1\n",
    "    public void StartAction()\n",
    "    {\n",
    "        Console.WriteLine(\"Action started.\");\n",
    "    }\n",
    "\n",
    "    // Implementation of the EndAction method from IInterface2\n",
    "    public void EndAction()\n",
    "    {\n",
    "        Console.WriteLine(\"Action ended.\");\n",
    "    }\n",
    "}\n",
    "\n",
    "MyClass myClass = new MyClass();\n",
    "\n",
    "// Call the methods defined by the interfaces\n",
    "myClass.StartAction(); // Outputs: Action started.\n",
    "myClass.EndAction();   // Outputs: Action ended.\n"
   ]
  }
 ],
 "metadata": {
  "language_info": {
   "name": "python"
  }
 },
 "nbformat": 4,
 "nbformat_minor": 2
}
