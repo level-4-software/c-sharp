{
 "cells": [
  {
   "cell_type": "markdown",
   "metadata": {},
   "source": [
    "# Aggregation and Composition\n",
    "\n",
    "\n",
    "Aggregation and composition are not types of classes themselves but rather ways to design relationships between classes in object-oriented programming (OOP). These design principles dictate how objects interact and are associated with each other, contrasting with the concept of a class, which is a blueprint for creating objects. Let's clarify these concepts further and distinguish them from classes:\n",
    "\n",
    "### Classes\n",
    "\n",
    "- Definition: A class in OOP is a blueprint or template for creating objects (instances). It defines a set of properties (attributes) and methods (functions) that the created objects will have.\n",
    "- Purpose: The primary purpose of a class is to encapsulate data and behavior that are related. It serves as the foundation for object creation and interaction in OOP.\n",
    "- Example: A Dog class might define properties like name, breed, and age, along with methods like bark() or eat().\n",
    "\n",
    "### Aggregation\n",
    "\n",
    "- Relationship: Aggregation represents a \"has-a\" relationship but allows the contained object to exist independently of the container object.\n",
    "- Lifetime: The lifetime of the aggregated objects is not managed by the aggregator; they can live beyond the lifespan of the container.\n",
    "- Example: A School class might aggregate Teacher objects. Teachers can exist without the school, reflecting the independence of their lifetimes."
   ]
  },
  {
   "cell_type": "code",
   "execution_count": 1,
   "metadata": {
    "vscode": {
     "languageId": "polyglot-notebook"
    }
   },
   "outputs": [
    {
     "name": "stdout",
     "output_type": "stream",
     "text": [
      "School Teachers:\n",
      "Teacher: Ms. Smith\n",
      "Teacher: Mr. Jones\n"
     ]
    }
   ],
   "source": [
    "using System;\n",
    "using System.Collections.Generic;\n",
    "\n",
    "// Define the Teacher class.\n",
    "// Represents an individual teacher with a name.\n",
    "class Teacher\n",
    "{\n",
    "    public string Name { get; }\n",
    "\n",
    "    public Teacher(string name)\n",
    "    {\n",
    "        Name = name; // Initialize the teacher's name upon object creation.\n",
    "    }\n",
    "}\n",
    "\n",
    "// Define the School class.\n",
    "// This class aggregates Teacher objects, demonstrating a \"has-a\" relationship.\n",
    "class School\n",
    "{\n",
    "    // A list to hold the aggregated Teacher objects.\n",
    "    public List<Teacher> Teachers { get; } = new List<Teacher>();\n",
    "\n",
    "    // Method to add a Teacher to the School.\n",
    "    public void AddTeacher(Teacher teacher)\n",
    "    {\n",
    "        Teachers.Add(teacher); // Add a Teacher object to the Teachers list.\n",
    "    }\n",
    "\n",
    "    // Method to display all Teachers in the School.\n",
    "    public void ShowTeachers()\n",
    "    {\n",
    "        Console.WriteLine(\"School Teachers:\");\n",
    "        foreach (var teacher in Teachers)\n",
    "        {\n",
    "            Console.WriteLine($\"Teacher: {teacher.Name}\");\n",
    "        }\n",
    "    }\n",
    "}\n",
    "\n",
    "// Example usage of the School and Teacher classes to demonstrate aggregation.\n",
    "{\n",
    "    // Create teacher instances.\n",
    "    Teacher teacher1 = new Teacher(\"Ms. Smith\");\n",
    "    Teacher teacher2 = new Teacher(\"Mr. Jones\");\n",
    "\n",
    "    // Create a school instance and add teachers to it.\n",
    "    School mySchool = new School();\n",
    "    mySchool.AddTeacher(teacher1);\n",
    "    mySchool.AddTeacher(teacher2);\n",
    "\n",
    "    // Display all teachers in the school.\n",
    "    mySchool.ShowTeachers();\n",
    "}"
   ]
  },
  {
   "cell_type": "markdown",
   "metadata": {},
   "source": [
    "### Composition\n",
    "\n",
    "- Relationship: Composition also represents a \"has-a\" relationship but with a stronger linkage. The composed objects cannot exist independently of the container object.\n",
    "- Lifetime: The lifetime of the composed objects is strictly tied to the lifetime of the container. If the container object is destroyed, the composed objects are also destroyed.\n",
    "- Example: A Car class  is composed of various parts, like an engine, wheels, and a steering wheel. These parts, while they can be identified as separate objects and come from different classes (Engine, Wheel, SteeringWheel), do not exist independently of the car. If the car is scrapped, its components are considered scrapped too, even if they're physically intact. The car (the container) owns these components (the contained objects), and their lifecycles are tightly coupled."
   ]
  },
  {
   "cell_type": "code",
   "execution_count": 2,
   "metadata": {
    "dotnet_interactive": {
     "language": "csharp"
    },
    "polyglot_notebook": {
     "kernelName": "csharp"
    },
    "vscode": {
     "languageId": "polyglot-notebook"
    }
   },
   "outputs": [
    {
     "name": "stdout",
     "output_type": "stream",
     "text": [
      "Car: Tesla Model S - Red\n",
      "Engine: V8\n",
      "Wheel Size: 18\"\n",
      "Steering Wheel: Leather\n"
     ]
    }
   ],
   "source": [
    "using System;\n",
    "\n",
    "// Define the Engine class to represent a car's engine.\n",
    "// It includes a Type property to specify the engine type (e.g., V6, V8).\n",
    "class Engine\n",
    "{\n",
    "    public string Type { get; }\n",
    "\n",
    "    // Constructor to initialize the Engine with a specific type.\n",
    "    public Engine(string type)\n",
    "    {\n",
    "        Type = type;\n",
    "    }\n",
    "}\n",
    "\n",
    "// Define the Wheel class to represent a car's wheel.\n",
    "// It includes a Size property to specify the wheel size in inches.\n",
    "class Wheel\n",
    "{\n",
    "    public int Size { get; }\n",
    "\n",
    "    // Constructor to initialize the Wheel with a specific size.\n",
    "    public Wheel(int size)\n",
    "    {\n",
    "        Size = size;\n",
    "    }\n",
    "}\n",
    "\n",
    "// Define the SteeringWheel class to represent a car's steering wheel.\n",
    "// It includes a Material property to specify what the steering wheel is made of (e.g., leather).\n",
    "class SteeringWheel\n",
    "{\n",
    "    public string Material { get; }\n",
    "\n",
    "    // Constructor to initialize the SteeringWheel with a specific material.\n",
    "    public SteeringWheel(string material)\n",
    "    {\n",
    "        Material = material;\n",
    "    }\n",
    "}\n",
    "\n",
    "// Define the Car class, which is composed of an Engine, four Wheels, and a SteeringWheel.\n",
    "// This class demonstrates composition by including these objects as part of its state.\n",
    "class Car\n",
    "{\n",
    "    // Properties for the car's basic information.\n",
    "    public string Make { get; }\n",
    "    public string Model { get; }\n",
    "    public string Color { get; }\n",
    "\n",
    "    // Private fields for the composed objects.\n",
    "    private Engine engine;\n",
    "    private Wheel[] wheels = new Wheel[4]; // A car typically has 4 wheels.\n",
    "    private SteeringWheel steeringWheel;\n",
    "\n",
    "    // Constructor to initialize the Car with its components.\n",
    "    // This approach demonstrates composition by building a Car from its parts.\n",
    "    public Car(string make, string model, string color, Engine engine, Wheel wheel, SteeringWheel steeringWheel)\n",
    "    {\n",
    "        Make = make;\n",
    "        Model = model;\n",
    "        Color = color;\n",
    "        this.engine = engine; // Assign the provided Engine object to the car.\n",
    "        \n",
    "        // Assign the provided Wheel object to all 4 positions in the wheels array.\n",
    "        for (int i = 0; i < this.wheels.Length; i++)\n",
    "        {\n",
    "            this.wheels[i] = wheel;\n",
    "        }\n",
    "        \n",
    "        this.steeringWheel = steeringWheel; // Assign the provided SteeringWheel object to the car.\n",
    "    }\n",
    "\n",
    "    // Method to display information about the car and its components.\n",
    "    public void DisplayCarInfo()\n",
    "    {\n",
    "        Console.WriteLine($\"Car: {Make} {Model} - {Color}\");\n",
    "        Console.WriteLine($\"Engine: {engine.Type}\");\n",
    "        Console.WriteLine($\"Wheel Size: {wheels[0].Size}\\\"\");\n",
    "        Console.WriteLine($\"Steering Wheel: {steeringWheel.Material}\");\n",
    "    }\n",
    "}\n",
    "\n",
    "// Demonstrate creating a Car object using composition.\n",
    "{\n",
    "    // Create component objects for the car.\n",
    "    Engine myEngine = new Engine(\"V8\");\n",
    "    Wheel myWheel = new Wheel(18);\n",
    "    SteeringWheel mySteeringWheel = new SteeringWheel(\"Leather\");\n",
    "\n",
    "    // Create a Car object by composing it from the engine, wheel, and steering wheel.\n",
    "    Car myCar = new Car(\"Tesla\", \"Model S\", \"Red\", myEngine, myWheel, mySteeringWheel);\n",
    "    \n",
    "    // Display detailed information about the car, demonstrating access to its composed state.\n",
    "    myCar.DisplayCarInfo();\n",
    "}\n"
   ]
  },
  {
   "cell_type": "markdown",
   "metadata": {},
   "source": [
    "### How They Differ from Classes\n",
    "\n",
    "- Scope and Purpose: Classes are the basic building blocks in OOP that define the structure and behavior of objects. Aggregation and composition, on the other hand, describe how instances of these classes (objects) are related and interact with each other in a larger system.\n",
    "- Lifetime and Independence: While classes are concerned with the creation of objects, aggregation, and composition are concerned with the relationships between objects, especially how the lifetimes of related objects are managed.\n",
    "- Design Consideration: Classes focus on encapsulating data and behaviors. Aggregation and composition are high-level design considerations that focus on how objects of these classes form a coherent application or system, emphasizing the importance of understanding object lifecycles and dependencies.\n",
    "Understanding the distinction between these concepts is crucial for effective OOP design, allowing developers to create systems that are modular, maintainable, and understandable.\n"
   ]
  }
 ],
 "metadata": {
  "language_info": {
   "name": "python"
  }
 },
 "nbformat": 4,
 "nbformat_minor": 2
}
